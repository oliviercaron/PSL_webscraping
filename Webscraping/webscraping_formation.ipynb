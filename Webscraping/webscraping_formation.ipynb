{
 "cells": [
  {
   "cell_type": "code",
   "execution_count": 269,
   "outputs": [
    {
     "data": {
      "text/plain": "2"
     },
     "execution_count": 269,
     "metadata": {},
     "output_type": "execute_result"
    }
   ],
   "source": [
    "1+1"
   ],
   "metadata": {
    "collapsed": false,
    "ExecuteTime": {
     "end_time": "2023-05-26T09:27:34.150309700Z",
     "start_time": "2023-05-26T09:27:34.020315800Z"
    }
   }
  },
  {
   "cell_type": "code",
   "execution_count": 270,
   "outputs": [
    {
     "data": {
      "text/plain": "int"
     },
     "execution_count": 270,
     "metadata": {},
     "output_type": "execute_result"
    }
   ],
   "source": [
    "type(1.5)\n",
    "type(1)"
   ],
   "metadata": {
    "collapsed": false,
    "ExecuteTime": {
     "end_time": "2023-05-26T09:27:34.408321200Z",
     "start_time": "2023-05-26T09:27:34.038310Z"
    }
   }
  },
  {
   "cell_type": "code",
   "execution_count": 271,
   "outputs": [
    {
     "name": "stdout",
     "output_type": "stream",
     "text": [
      "clio\n"
     ]
    }
   ],
   "source": [
    "c1 = \"clio\"\n",
    "c2 = \"clio\"\n",
    "print(c1)"
   ],
   "metadata": {
    "collapsed": false,
    "ExecuteTime": {
     "end_time": "2023-05-26T09:27:34.423309Z",
     "start_time": "2023-05-26T09:27:34.057308900Z"
    }
   }
  },
  {
   "cell_type": "code",
   "execution_count": 272,
   "outputs": [
    {
     "data": {
      "text/plain": "str"
     },
     "execution_count": 272,
     "metadata": {},
     "output_type": "execute_result"
    }
   ],
   "source": [
    "type(c1)"
   ],
   "metadata": {
    "collapsed": false,
    "ExecuteTime": {
     "end_time": "2023-05-26T09:27:34.453308500Z",
     "start_time": "2023-05-26T09:27:34.078316200Z"
    }
   }
  },
  {
   "cell_type": "code",
   "execution_count": 273,
   "outputs": [],
   "source": [
    "c1 == c2\n",
    "marque = \"renault\""
   ],
   "metadata": {
    "collapsed": false,
    "ExecuteTime": {
     "end_time": "2023-05-26T09:27:34.453308500Z",
     "start_time": "2023-05-26T09:27:34.087325900Z"
    }
   }
  },
  {
   "cell_type": "code",
   "execution_count": 274,
   "outputs": [
    {
     "data": {
      "text/plain": "'clio renault'"
     },
     "execution_count": 274,
     "metadata": {},
     "output_type": "execute_result"
    }
   ],
   "source": [
    "c1 + \" \" + c2\n",
    "c1 + \" \" + marque"
   ],
   "metadata": {
    "collapsed": false,
    "ExecuteTime": {
     "end_time": "2023-05-26T09:27:34.454309100Z",
     "start_time": "2023-05-26T09:27:34.099308300Z"
    }
   }
  },
  {
   "cell_type": "code",
   "execution_count": 275,
   "outputs": [
    {
     "data": {
      "text/plain": "'clio 2'"
     },
     "execution_count": 275,
     "metadata": {},
     "output_type": "execute_result"
    }
   ],
   "source": [
    "q=2\n",
    "c1 + str(q)\n",
    "c1+\" \"+str(q)"
   ],
   "metadata": {
    "collapsed": false,
    "ExecuteTime": {
     "end_time": "2023-05-26T09:27:34.455308300Z",
     "start_time": "2023-05-26T09:27:34.115309100Z"
    }
   }
  },
  {
   "cell_type": "markdown",
   "source": [
    "Lists"
   ],
   "metadata": {
    "collapsed": false
   }
  },
  {
   "cell_type": "code",
   "execution_count": 276,
   "outputs": [],
   "source": [
    "list = [1,2,3,4,4]"
   ],
   "metadata": {
    "collapsed": false,
    "ExecuteTime": {
     "end_time": "2023-05-26T09:27:34.455308300Z",
     "start_time": "2023-05-26T09:27:34.136309400Z"
    }
   }
  },
  {
   "cell_type": "code",
   "execution_count": 277,
   "outputs": [
    {
     "data": {
      "text/plain": "5"
     },
     "execution_count": 277,
     "metadata": {},
     "output_type": "execute_result"
    }
   ],
   "source": [
    "len(list)"
   ],
   "metadata": {
    "collapsed": false,
    "ExecuteTime": {
     "end_time": "2023-05-26T09:27:34.456313800Z",
     "start_time": "2023-05-26T09:27:34.151309Z"
    }
   }
  },
  {
   "cell_type": "code",
   "execution_count": 278,
   "outputs": [
    {
     "data": {
      "text/plain": "1"
     },
     "execution_count": 278,
     "metadata": {},
     "output_type": "execute_result"
    }
   ],
   "source": [
    "list[0]"
   ],
   "metadata": {
    "collapsed": false,
    "ExecuteTime": {
     "end_time": "2023-05-26T09:27:34.456313800Z",
     "start_time": "2023-05-26T09:27:34.165316700Z"
    }
   }
  },
  {
   "cell_type": "code",
   "execution_count": 279,
   "outputs": [
    {
     "data": {
      "text/plain": "[2, 3]"
     },
     "execution_count": 279,
     "metadata": {},
     "output_type": "execute_result"
    }
   ],
   "source": [
    "list[1:3]"
   ],
   "metadata": {
    "collapsed": false,
    "ExecuteTime": {
     "end_time": "2023-05-26T09:27:34.456313800Z",
     "start_time": "2023-05-26T09:27:34.182309400Z"
    }
   }
  },
  {
   "cell_type": "code",
   "execution_count": 280,
   "outputs": [
    {
     "data": {
      "text/plain": "4"
     },
     "execution_count": 280,
     "metadata": {},
     "output_type": "execute_result"
    }
   ],
   "source": [
    "list[-1]"
   ],
   "metadata": {
    "collapsed": false,
    "ExecuteTime": {
     "end_time": "2023-05-26T09:27:34.457310100Z",
     "start_time": "2023-05-26T09:27:34.198310300Z"
    }
   }
  },
  {
   "cell_type": "code",
   "execution_count": 281,
   "outputs": [
    {
     "data": {
      "text/plain": "[9, 2, 3, 4, 4]"
     },
     "execution_count": 281,
     "metadata": {},
     "output_type": "execute_result"
    }
   ],
   "source": [
    "list[0] = 9\n",
    "list"
   ],
   "metadata": {
    "collapsed": false,
    "ExecuteTime": {
     "end_time": "2023-05-26T09:27:34.457310100Z",
     "start_time": "2023-05-26T09:27:34.211310300Z"
    }
   }
  },
  {
   "cell_type": "code",
   "execution_count": 282,
   "outputs": [],
   "source": [
    "test=(1,2,5,6,7)"
   ],
   "metadata": {
    "collapsed": false,
    "ExecuteTime": {
     "end_time": "2023-05-26T09:27:34.457310100Z",
     "start_time": "2023-05-26T09:27:34.233313200Z"
    }
   }
  },
  {
   "cell_type": "code",
   "execution_count": 283,
   "outputs": [
    {
     "data": {
      "text/plain": "tuple"
     },
     "execution_count": 283,
     "metadata": {},
     "output_type": "execute_result"
    }
   ],
   "source": [
    "type(test)"
   ],
   "metadata": {
    "collapsed": false,
    "ExecuteTime": {
     "end_time": "2023-05-26T09:27:34.458309600Z",
     "start_time": "2023-05-26T09:27:34.245309900Z"
    }
   }
  },
  {
   "cell_type": "code",
   "execution_count": 284,
   "outputs": [
    {
     "data": {
      "text/plain": "[2, 5, 6, 'blabla', [1, 4, 6]]"
     },
     "execution_count": 284,
     "metadata": {},
     "output_type": "execute_result"
    }
   ],
   "source": [
    "list2 = [2,5,6,\"blabla\",[1,4,6]]\n",
    "list2"
   ],
   "metadata": {
    "collapsed": false,
    "ExecuteTime": {
     "end_time": "2023-05-26T09:27:34.458309600Z",
     "start_time": "2023-05-26T09:27:34.258317600Z"
    }
   }
  },
  {
   "cell_type": "markdown",
   "source": [
    "Tuples : un élément peut changer dans la liste alors que ça ne change pas dans les tuples\n",
    "impossible d'affecter une nouvelle valeur ou de modifier dans un tuple. Utile lorsqu'on veut affecter par exemple des prix qui\n",
    "ne changent jamais."
   ],
   "metadata": {
    "collapsed": false
   }
  },
  {
   "cell_type": "markdown",
   "source": [
    "Sets"
   ],
   "metadata": {
    "collapsed": false
   }
  },
  {
   "cell_type": "code",
   "execution_count": 285,
   "outputs": [],
   "source": [
    "s1 = {\"a\", \"b\", \"c\"}\n",
    "s2 = {\"d\", \"e\", \"f\"}"
   ],
   "metadata": {
    "collapsed": false,
    "ExecuteTime": {
     "end_time": "2023-05-26T09:27:34.459313900Z",
     "start_time": "2023-05-26T09:27:34.276311300Z"
    }
   }
  },
  {
   "cell_type": "code",
   "execution_count": 286,
   "outputs": [
    {
     "data": {
      "text/plain": "{'a', 'b', 'c'}"
     },
     "execution_count": 286,
     "metadata": {},
     "output_type": "execute_result"
    }
   ],
   "source": [
    "s1"
   ],
   "metadata": {
    "collapsed": false,
    "ExecuteTime": {
     "end_time": "2023-05-26T09:27:34.459313900Z",
     "start_time": "2023-05-26T09:27:34.291311Z"
    }
   }
  },
  {
   "cell_type": "code",
   "execution_count": 287,
   "outputs": [],
   "source": [
    "list1 = [5,4,2,2,3,1,2,3,4,4,4,2,3,3,4]"
   ],
   "metadata": {
    "collapsed": false,
    "ExecuteTime": {
     "end_time": "2023-05-26T09:27:34.460313400Z",
     "start_time": "2023-05-26T09:27:34.306312100Z"
    }
   }
  },
  {
   "cell_type": "code",
   "execution_count": 288,
   "outputs": [
    {
     "data": {
      "text/plain": "{1, 2, 3, 4, 5}"
     },
     "execution_count": 288,
     "metadata": {},
     "output_type": "execute_result"
    }
   ],
   "source": [
    "set(list1)"
   ],
   "metadata": {
    "collapsed": false,
    "ExecuteTime": {
     "end_time": "2023-05-26T09:27:34.481318Z",
     "start_time": "2023-05-26T09:27:34.320318600Z"
    }
   }
  },
  {
   "cell_type": "code",
   "execution_count": 289,
   "outputs": [
    {
     "data": {
      "text/plain": "{'aaa', 'bbb', 'bonjourbonjouroefoef', 'zzzz'}"
     },
     "execution_count": 289,
     "metadata": {},
     "output_type": "execute_result"
    }
   ],
   "source": [
    "liststr = [\"aaa\",\"bbb\",\"zzzz\",\"bonjourbonjouroefoef\"]\n",
    "set(liststr)"
   ],
   "metadata": {
    "collapsed": false,
    "ExecuteTime": {
     "end_time": "2023-05-26T09:27:34.482314400Z",
     "start_time": "2023-05-26T09:27:34.339310900Z"
    }
   }
  },
  {
   "cell_type": "code",
   "execution_count": 290,
   "outputs": [],
   "source": [
    "user = {\"prenom\": \"Olivier\", \"nom\": \"Caron\", \"age\": 32.0, \"age\": 32}"
   ],
   "metadata": {
    "collapsed": false,
    "ExecuteTime": {
     "end_time": "2023-05-26T09:27:34.482314400Z",
     "start_time": "2023-05-26T09:27:34.354310700Z"
    }
   }
  },
  {
   "cell_type": "code",
   "execution_count": 291,
   "outputs": [
    {
     "data": {
      "text/plain": "{'prenom': 'Olivier', 'nom': 'Caron', 'age': 32}"
     },
     "execution_count": 291,
     "metadata": {},
     "output_type": "execute_result"
    }
   ],
   "source": [
    "user"
   ],
   "metadata": {
    "collapsed": false,
    "ExecuteTime": {
     "end_time": "2023-05-26T09:27:34.483311200Z",
     "start_time": "2023-05-26T09:27:34.368309300Z"
    }
   }
  },
  {
   "cell_type": "code",
   "execution_count": 292,
   "outputs": [
    {
     "data": {
      "text/plain": "int"
     },
     "execution_count": 292,
     "metadata": {},
     "output_type": "execute_result"
    }
   ],
   "source": [
    "type(user[\"age\"])"
   ],
   "metadata": {
    "collapsed": false,
    "ExecuteTime": {
     "end_time": "2023-05-26T09:27:34.483311200Z",
     "start_time": "2023-05-26T09:27:34.404309300Z"
    }
   }
  },
  {
   "cell_type": "code",
   "execution_count": 293,
   "outputs": [
    {
     "data": {
      "text/plain": "32"
     },
     "execution_count": 293,
     "metadata": {},
     "output_type": "execute_result"
    }
   ],
   "source": [
    "user[\"nom\"]\n",
    "user[\"age\"]"
   ],
   "metadata": {
    "collapsed": false,
    "ExecuteTime": {
     "end_time": "2023-05-26T09:27:34.484311100Z",
     "start_time": "2023-05-26T09:27:34.418312800Z"
    }
   }
  },
  {
   "cell_type": "code",
   "execution_count": 294,
   "outputs": [],
   "source": [
    "user[\"prenom\"] = \"Olivieroooo\""
   ],
   "metadata": {
    "collapsed": false,
    "ExecuteTime": {
     "end_time": "2023-05-26T09:27:34.818311500Z",
     "start_time": "2023-05-26T09:27:34.432310Z"
    }
   }
  },
  {
   "cell_type": "code",
   "execution_count": 295,
   "outputs": [
    {
     "data": {
      "text/plain": "{'prenom': 'Olivieroooo', 'nom': 'Caron', 'age': 32}"
     },
     "execution_count": 295,
     "metadata": {},
     "output_type": "execute_result"
    }
   ],
   "source": [
    "user"
   ],
   "metadata": {
    "collapsed": false,
    "ExecuteTime": {
     "end_time": "2023-05-26T09:27:34.860331100Z",
     "start_time": "2023-05-26T09:27:34.453308500Z"
    }
   }
  },
  {
   "cell_type": "code",
   "execution_count": 296,
   "outputs": [
    {
     "data": {
      "text/plain": "{'prenom': 'Lucile', 'nom': 'Caron', 'age': 32, 'genre': 'femme'}"
     },
     "execution_count": 296,
     "metadata": {},
     "output_type": "execute_result"
    }
   ],
   "source": [
    "user2 = {'prenom': 'Lucile', 'nom': 'Caron', 'age': 32, \"genre\": \"femme\"}\n",
    "user2"
   ],
   "metadata": {
    "collapsed": false,
    "ExecuteTime": {
     "end_time": "2023-05-26T09:27:34.860331100Z",
     "start_time": "2023-05-26T09:27:34.465310400Z"
    }
   }
  },
  {
   "cell_type": "code",
   "execution_count": 297,
   "outputs": [],
   "source": [
    "couple = [user, user2]"
   ],
   "metadata": {
    "collapsed": false,
    "ExecuteTime": {
     "end_time": "2023-05-26T09:27:34.861314900Z",
     "start_time": "2023-05-26T09:27:34.480316800Z"
    }
   }
  },
  {
   "cell_type": "code",
   "execution_count": 298,
   "outputs": [
    {
     "data": {
      "text/plain": "[{'prenom': 'Olivieroooo', 'nom': 'Caron', 'age': 32},\n {'prenom': 'Lucile', 'nom': 'Caron', 'age': 32, 'genre': 'femme'}]"
     },
     "execution_count": 298,
     "metadata": {},
     "output_type": "execute_result"
    }
   ],
   "source": [
    "couple"
   ],
   "metadata": {
    "collapsed": false,
    "ExecuteTime": {
     "end_time": "2023-05-26T09:27:34.888309300Z",
     "start_time": "2023-05-26T09:27:34.498310Z"
    }
   }
  },
  {
   "cell_type": "code",
   "execution_count": 299,
   "outputs": [
    {
     "name": "stdout",
     "output_type": "stream",
     "text": [
      "Requirement already satisfied: pandas in c:\\users\\lucile\\anaconda3\\envs\\pythonproject\\lib\\site-packages (2.0.1)\n",
      "Requirement already satisfied: tzdata>=2022.1 in c:\\users\\lucile\\anaconda3\\envs\\pythonproject\\lib\\site-packages (from pandas) (2023.3)\n",
      "Requirement already satisfied: numpy>=1.21.0 in c:\\users\\lucile\\anaconda3\\envs\\pythonproject\\lib\\site-packages (from pandas) (1.24.3)\n",
      "Requirement already satisfied: pytz>=2020.1 in c:\\users\\lucile\\anaconda3\\envs\\pythonproject\\lib\\site-packages (from pandas) (2022.7)\n",
      "Requirement already satisfied: python-dateutil>=2.8.2 in c:\\users\\lucile\\anaconda3\\envs\\pythonproject\\lib\\site-packages (from pandas) (2.8.2)\n",
      "Requirement already satisfied: six>=1.5 in c:\\users\\lucile\\anaconda3\\envs\\pythonproject\\lib\\site-packages (from python-dateutil>=2.8.2->pandas) (1.16.0)\n"
     ]
    }
   ],
   "source": [
    "!pip install pandas\n",
    "import pandas as pd"
   ],
   "metadata": {
    "collapsed": false,
    "ExecuteTime": {
     "end_time": "2023-05-26T09:27:36.597313500Z",
     "start_time": "2023-05-26T09:27:34.512309Z"
    }
   }
  },
  {
   "cell_type": "code",
   "execution_count": 300,
   "outputs": [
    {
     "data": {
      "text/plain": "        prenom    nom  age  genre\n0  Olivieroooo  Caron   32    NaN\n1       Lucile  Caron   32  femme",
      "text/html": "<div>\n<style scoped>\n    .dataframe tbody tr th:only-of-type {\n        vertical-align: middle;\n    }\n\n    .dataframe tbody tr th {\n        vertical-align: top;\n    }\n\n    .dataframe thead th {\n        text-align: right;\n    }\n</style>\n<table border=\"1\" class=\"dataframe\">\n  <thead>\n    <tr style=\"text-align: right;\">\n      <th></th>\n      <th>prenom</th>\n      <th>nom</th>\n      <th>age</th>\n      <th>genre</th>\n    </tr>\n  </thead>\n  <tbody>\n    <tr>\n      <th>0</th>\n      <td>Olivieroooo</td>\n      <td>Caron</td>\n      <td>32</td>\n      <td>NaN</td>\n    </tr>\n    <tr>\n      <th>1</th>\n      <td>Lucile</td>\n      <td>Caron</td>\n      <td>32</td>\n      <td>femme</td>\n    </tr>\n  </tbody>\n</table>\n</div>"
     },
     "execution_count": 300,
     "metadata": {},
     "output_type": "execute_result"
    }
   ],
   "source": [
    "df = pd.DataFrame(couple)\n",
    "df"
   ],
   "metadata": {
    "collapsed": false,
    "ExecuteTime": {
     "end_time": "2023-05-26T09:27:36.644311700Z",
     "start_time": "2023-05-26T09:27:36.607311900Z"
    }
   }
  },
  {
   "cell_type": "markdown",
   "source": [],
   "metadata": {
    "collapsed": false
   }
  },
  {
   "cell_type": "code",
   "execution_count": 301,
   "outputs": [],
   "source": [
    "nombres = [1,2,3,4,5,6]"
   ],
   "metadata": {
    "collapsed": false,
    "ExecuteTime": {
     "end_time": "2023-05-26T09:27:36.645315300Z",
     "start_time": "2023-05-26T09:27:36.619309200Z"
    }
   }
  },
  {
   "cell_type": "code",
   "execution_count": 311,
   "outputs": [
    {
     "data": {
      "text/plain": "[4, 16, 36]"
     },
     "execution_count": 311,
     "metadata": {},
     "output_type": "execute_result"
    }
   ],
   "source": [
    "carre_nombres = [n**2 for n in nombres if n % 2 == 0]\n",
    "carre_nombres"
   ],
   "metadata": {
    "collapsed": false,
    "ExecuteTime": {
     "end_time": "2023-05-26T09:29:38.195433800Z",
     "start_time": "2023-05-26T09:29:38.181446200Z"
    }
   }
  },
  {
   "cell_type": "code",
   "execution_count": 312,
   "outputs": [
    {
     "data": {
      "text/plain": "True"
     },
     "execution_count": 312,
     "metadata": {},
     "output_type": "execute_result"
    }
   ],
   "source": [
    "5 == 5"
   ],
   "metadata": {
    "collapsed": false,
    "ExecuteTime": {
     "end_time": "2023-05-26T09:30:29.683707Z",
     "start_time": "2023-05-26T09:30:29.660669100Z"
    }
   }
  },
  {
   "cell_type": "code",
   "execution_count": 313,
   "outputs": [
    {
     "data": {
      "text/plain": "True"
     },
     "execution_count": 313,
     "metadata": {},
     "output_type": "execute_result"
    }
   ],
   "source": [
    "5 <= 5"
   ],
   "metadata": {
    "collapsed": false,
    "ExecuteTime": {
     "end_time": "2023-05-26T09:30:36.167919400Z",
     "start_time": "2023-05-26T09:30:36.153923800Z"
    }
   }
  },
  {
   "cell_type": "code",
   "execution_count": 315,
   "outputs": [
    {
     "data": {
      "text/plain": "False"
     },
     "execution_count": 315,
     "metadata": {},
     "output_type": "execute_result"
    }
   ],
   "source": [
    "6 != 6"
   ],
   "metadata": {
    "collapsed": false,
    "ExecuteTime": {
     "end_time": "2023-05-26T09:30:45.876582300Z",
     "start_time": "2023-05-26T09:30:45.858581700Z"
    }
   }
  },
  {
   "cell_type": "code",
   "execution_count": 317,
   "outputs": [
    {
     "data": {
      "text/plain": "True"
     },
     "execution_count": 317,
     "metadata": {},
     "output_type": "execute_result"
    }
   ],
   "source": [
    "val1 = 1\n",
    "val2 = 2\n",
    "val1 is not val2"
   ],
   "metadata": {
    "collapsed": false,
    "ExecuteTime": {
     "end_time": "2023-05-26T09:31:27.560382400Z",
     "start_time": "2023-05-26T09:31:27.535396600Z"
    }
   }
  },
  {
   "cell_type": "code",
   "execution_count": 320,
   "outputs": [
    {
     "data": {
      "text/plain": "True"
     },
     "execution_count": 320,
     "metadata": {},
     "output_type": "execute_result"
    }
   ],
   "source": [
    "x = 5\n",
    "x in [1,4,5]"
   ],
   "metadata": {
    "collapsed": false,
    "ExecuteTime": {
     "end_time": "2023-05-26T09:33:28.702288700Z",
     "start_time": "2023-05-26T09:33:28.653286Z"
    }
   }
  },
  {
   "cell_type": "code",
   "execution_count": 324,
   "outputs": [
    {
     "data": {
      "text/plain": "True"
     },
     "execution_count": 324,
     "metadata": {},
     "output_type": "execute_result"
    }
   ],
   "source": [
    "y = \"olivier\"\n",
    "y in ['blablbl',\"Ceci est un test\", 4, 14553*4245, \"olivier\"]"
   ],
   "metadata": {
    "collapsed": false,
    "ExecuteTime": {
     "end_time": "2023-05-26T09:34:36.409302Z",
     "start_time": "2023-05-26T09:34:36.385718600Z"
    }
   }
  },
  {
   "cell_type": "code",
   "execution_count": 325,
   "outputs": [
    {
     "data": {
      "text/plain": "True"
     },
     "execution_count": 325,
     "metadata": {},
     "output_type": "execute_result"
    }
   ],
   "source": [
    "\"Olivier\" in \"Olivier Caron\""
   ],
   "metadata": {
    "collapsed": false,
    "ExecuteTime": {
     "end_time": "2023-05-26T09:35:12.282786900Z",
     "start_time": "2023-05-26T09:35:12.272782Z"
    }
   }
  },
  {
   "cell_type": "code",
   "execution_count": 326,
   "outputs": [],
   "source": [
    "personne = \"Olivier Caron\""
   ],
   "metadata": {
    "collapsed": false,
    "ExecuteTime": {
     "end_time": "2023-05-26T09:35:24.556573300Z",
     "start_time": "2023-05-26T09:35:24.537160100Z"
    }
   }
  },
  {
   "cell_type": "code",
   "execution_count": 339,
   "outputs": [
    {
     "name": "stdout",
     "output_type": "stream",
     "text": [
      "Bonjour 1\n",
      "Bonjour 2\n",
      "Bonjour 3\n",
      "Bonjour 4\n"
     ]
    }
   ],
   "source": [
    "for x in (1,2,3,4):\n",
    "    print(\"Bonjour \" + str(x))"
   ],
   "metadata": {
    "collapsed": false,
    "ExecuteTime": {
     "end_time": "2023-05-26T09:37:30.037043800Z",
     "start_time": "2023-05-26T09:37:30.022042300Z"
    }
   }
  },
  {
   "cell_type": "code",
   "execution_count": 343,
   "outputs": [
    {
     "name": "stdout",
     "output_type": "stream",
     "text": [
      "Nombre 0\n",
      "Nombre 1\n",
      "Nombre 2\n",
      "Nombre 3\n",
      "Nombre 4\n"
     ]
    }
   ],
   "source": [
    "i=0\n",
    "while (i<5):\n",
    "    print(\"Nombre \" + str(i))\n",
    "    i=i+1"
   ],
   "metadata": {
    "collapsed": false,
    "ExecuteTime": {
     "end_time": "2023-05-26T09:39:27.711754400Z",
     "start_time": "2023-05-26T09:39:27.688254600Z"
    }
   }
  },
  {
   "cell_type": "code",
   "execution_count": 357,
   "outputs": [],
   "source": [
    "def print_hello(name):\n",
    "    print(f'Hello ' + str(name))"
   ],
   "metadata": {
    "collapsed": false,
    "ExecuteTime": {
     "end_time": "2023-05-26T09:42:29.902227800Z",
     "start_time": "2023-05-26T09:42:29.886201500Z"
    }
   }
  },
  {
   "cell_type": "code",
   "execution_count": 358,
   "outputs": [
    {
     "name": "stdout",
     "output_type": "stream",
     "text": [
      "Hello 2\n"
     ]
    }
   ],
   "source": [
    "print_hello(2)"
   ],
   "metadata": {
    "collapsed": false,
    "ExecuteTime": {
     "end_time": "2023-05-26T09:42:31.558100900Z",
     "start_time": "2023-05-26T09:42:31.535661Z"
    }
   }
  },
  {
   "cell_type": "code",
   "execution_count": 359,
   "outputs": [],
   "source": [
    "def multiplication(n1,n2):\n",
    "    return n1*n2"
   ],
   "metadata": {
    "collapsed": false,
    "ExecuteTime": {
     "end_time": "2023-05-26T09:43:58.321267600Z",
     "start_time": "2023-05-26T09:43:58.287223200Z"
    }
   }
  },
  {
   "cell_type": "code",
   "execution_count": 360,
   "outputs": [
    {
     "data": {
      "text/plain": "20"
     },
     "execution_count": 360,
     "metadata": {},
     "output_type": "execute_result"
    }
   ],
   "source": [
    "multiplication(4,5)"
   ],
   "metadata": {
    "collapsed": false,
    "ExecuteTime": {
     "end_time": "2023-05-26T09:44:06.196316400Z",
     "start_time": "2023-05-26T09:44:06.149038800Z"
    }
   }
  },
  {
   "cell_type": "code",
   "execution_count": 361,
   "outputs": [],
   "source": [
    "def carre(nb):\n",
    "    return nb**2"
   ],
   "metadata": {
    "collapsed": false,
    "ExecuteTime": {
     "end_time": "2023-05-26T09:48:02.516018700Z",
     "start_time": "2023-05-26T09:48:02.492075100Z"
    }
   }
  },
  {
   "cell_type": "code",
   "execution_count": 362,
   "outputs": [
    {
     "data": {
      "text/plain": "49"
     },
     "execution_count": 362,
     "metadata": {},
     "output_type": "execute_result"
    }
   ],
   "source": [
    "carre(7)"
   ],
   "metadata": {
    "collapsed": false,
    "ExecuteTime": {
     "end_time": "2023-05-26T09:48:07.461502600Z",
     "start_time": "2023-05-26T09:48:07.453469Z"
    }
   }
  },
  {
   "cell_type": "code",
   "execution_count": 363,
   "outputs": [],
   "source": [
    "def carre_cube(nb):\n",
    "    return nb**2,nb**3"
   ],
   "metadata": {
    "collapsed": false,
    "ExecuteTime": {
     "end_time": "2023-05-26T09:51:44.417143700Z",
     "start_time": "2023-05-26T09:51:44.407142200Z"
    }
   }
  },
  {
   "cell_type": "code",
   "execution_count": 364,
   "outputs": [
    {
     "data": {
      "text/plain": "(25, 125)"
     },
     "execution_count": 364,
     "metadata": {},
     "output_type": "execute_result"
    }
   ],
   "source": [
    "carre_cube(5)"
   ],
   "metadata": {
    "collapsed": false,
    "ExecuteTime": {
     "end_time": "2023-05-26T09:51:57.383646900Z",
     "start_time": "2023-05-26T09:51:57.363129900Z"
    }
   }
  },
  {
   "cell_type": "code",
   "execution_count": 365,
   "outputs": [],
   "source": [
    "nom = \"CARON\""
   ],
   "metadata": {
    "collapsed": false,
    "ExecuteTime": {
     "end_time": "2023-05-26T09:52:31.172241100Z",
     "start_time": "2023-05-26T09:52:31.155257400Z"
    }
   }
  },
  {
   "cell_type": "code",
   "execution_count": 381,
   "outputs": [
    {
     "data": {
      "text/plain": "'                                          CARON                                          '"
     },
     "execution_count": 381,
     "metadata": {},
     "output_type": "execute_result"
    }
   ],
   "source": [
    "nom.center(89)"
   ],
   "metadata": {
    "collapsed": false,
    "ExecuteTime": {
     "end_time": "2023-05-26T09:54:47.253211500Z",
     "start_time": "2023-05-26T09:54:47.204851200Z"
    }
   }
  },
  {
   "cell_type": "code",
   "execution_count": 382,
   "outputs": [],
   "source": [
    "nom = \"O  l   ivier       \""
   ],
   "metadata": {
    "collapsed": false,
    "ExecuteTime": {
     "end_time": "2023-05-26T09:55:52.427435700Z",
     "start_time": "2023-05-26T09:55:52.406401200Z"
    }
   }
  },
  {
   "cell_type": "code",
   "execution_count": 385,
   "outputs": [
    {
     "data": {
      "text/plain": "'O  l   ivier'"
     },
     "execution_count": 385,
     "metadata": {},
     "output_type": "execute_result"
    }
   ],
   "source": [
    "nom.strip()"
   ],
   "metadata": {
    "collapsed": false,
    "ExecuteTime": {
     "end_time": "2023-05-26T09:56:13.948416400Z",
     "start_time": "2023-05-26T09:56:13.920420200Z"
    }
   }
  },
  {
   "cell_type": "code",
   "execution_count": 390,
   "outputs": [
    {
     "data": {
      "text/plain": "'Olivier'"
     },
     "execution_count": 390,
     "metadata": {},
     "output_type": "execute_result"
    }
   ],
   "source": [
    "nom.replace(\" \", \"\")"
   ],
   "metadata": {
    "collapsed": false,
    "ExecuteTime": {
     "end_time": "2023-05-26T09:57:29.121821600Z",
     "start_time": "2023-05-26T09:57:29.107821200Z"
    }
   }
  },
  {
   "cell_type": "code",
   "execution_count": 395,
   "outputs": [
    {
     "data": {
      "text/plain": "'OLIVIER'"
     },
     "execution_count": 395,
     "metadata": {},
     "output_type": "execute_result"
    }
   ],
   "source": [
    "nom.strip().lower().replace(\" \", \"\").capitalize().upper()"
   ],
   "metadata": {
    "collapsed": false,
    "ExecuteTime": {
     "end_time": "2023-05-26T09:58:40.022272900Z",
     "start_time": "2023-05-26T09:58:39.996073200Z"
    }
   }
  },
  {
   "cell_type": "code",
   "execution_count": 399,
   "outputs": [
    {
     "data": {
      "text/plain": "['Olivier', 'Caron', '32', 'Noyon', 'Arcueil', 'test']"
     },
     "execution_count": 399,
     "metadata": {},
     "output_type": "execute_result"
    }
   ],
   "source": [
    "nom_complet = \"Olivier,Caron,32,Noyon,Arcueil,test\"\n",
    "nom_parts = nom_complet.split(\",\")\n",
    "nom_parts"
   ],
   "metadata": {
    "collapsed": false,
    "ExecuteTime": {
     "end_time": "2023-05-26T10:00:41.083957800Z",
     "start_time": "2023-05-26T10:00:41.064960400Z"
    }
   }
  },
  {
   "cell_type": "code",
   "execution_count": 415,
   "outputs": [
    {
     "ename": "NameError",
     "evalue": "name 'testlist' is not defined",
     "output_type": "error",
     "traceback": [
      "\u001B[1;31m---------------------------------------------------------------------------\u001B[0m",
      "\u001B[1;31mNameError\u001B[0m                                 Traceback (most recent call last)",
      "Cell \u001B[1;32mIn[415], line 1\u001B[0m\n\u001B[1;32m----> 1\u001B[0m data \u001B[38;5;241m=\u001B[39m \u001B[43mtestlist\u001B[49m()\n",
      "\u001B[1;31mNameError\u001B[0m: name 'testlist' is not defined"
     ]
    }
   ],
   "source": [
    "data = testlist()"
   ],
   "metadata": {
    "collapsed": false,
    "ExecuteTime": {
     "end_time": "2023-05-26T10:04:13.403586600Z",
     "start_time": "2023-05-26T10:04:13.365588Z"
    }
   }
  },
  {
   "cell_type": "code",
   "execution_count": 408,
   "outputs": [
    {
     "ename": "NameError",
     "evalue": "name 'data' is not defined",
     "output_type": "error",
     "traceback": [
      "\u001B[1;31m---------------------------------------------------------------------------\u001B[0m",
      "\u001B[1;31mNameError\u001B[0m                                 Traceback (most recent call last)",
      "Cell \u001B[1;32mIn[408], line 1\u001B[0m\n\u001B[1;32m----> 1\u001B[0m \u001B[43mdata\u001B[49m\n",
      "\u001B[1;31mNameError\u001B[0m: name 'data' is not defined"
     ]
    }
   ],
   "source": [
    "data"
   ],
   "metadata": {
    "collapsed": false,
    "ExecuteTime": {
     "end_time": "2023-05-26T10:03:18.056280100Z",
     "start_time": "2023-05-26T10:03:18.005293400Z"
    }
   }
  },
  {
   "cell_type": "code",
   "execution_count": 503,
   "outputs": [
    {
     "name": "stdout",
     "output_type": "stream",
     "text": [
      "Demain, dès l'aube, à l'heure où blanchit la campagne,\n",
      "Je partirai. Vois-tu, je sais que tu m'attends.\n",
      "J'irai par la forêt, j'irai par la montagne.\n",
      "Je ne puis demeurer loin de toi plus longtemps.\n",
      "\n",
      "Je marcherai les yeux fixés sur mes pensées,\n",
      "Sans rien voir au dehors, sans entendre aucun bruit,\n",
      "Seul, inconnu, le dos courbé, les mains croisées,\n",
      "Triste, et le jour pour moi sera comme la nuit.\n",
      "\n",
      "Je ne regarderai ni l'or du soir qui tombe,\n",
      "Ni les voiles au loin descendant vers Harfleur,\n",
      "Et quand j'arriverai, je mettrai sur ta tombe\n",
      "Un bouquet de houx vert et de bruyère en fleur.\n"
     ]
    }
   ],
   "source": [
    "with open('poeme.txt', 'r', encoding=\"utf-8\") as f:\n",
    "    for line in f:\n",
    "        line = line.strip()\n",
    "        print(line)"
   ],
   "metadata": {
    "collapsed": false,
    "ExecuteTime": {
     "end_time": "2023-05-26T13:03:53.461237300Z",
     "start_time": "2023-05-26T13:03:53.397373600Z"
    }
   }
  },
  {
   "cell_type": "code",
   "execution_count": 504,
   "outputs": [
    {
     "name": "stdout",
     "output_type": "stream",
     "text": [
      "Demain, dès l'aube, à l'heure où blanchit la campagne,\n",
      "Je partirai. Vois-tu, je sais que tu m'attends.\n",
      "J'irai par la forêt, j'irai par la montagne.\n",
      "Je ne puis demeurer loin de toi plus longtemps.\n",
      "\n",
      "Je marcherai les yeux fixés sur mes pensées,\n",
      "Sans rien voir au dehors, sans entendre aucun bruit,\n",
      "Seul, inconnu, le dos courbé, les mains croisées,\n",
      "Triste, et le jour pour moi sera comme la nuit.\n",
      "\n",
      "Je ne regarderai ni l'or du soir qui tombe,\n",
      "Ni les voiles au loin descendant vers Harfleur,\n",
      "Et quand j'arriverai, je mettrai sur ta tombe\n",
      "Un bouquet de houx vert et de bruyère en fleur.\n"
     ]
    }
   ],
   "source": [
    "with open(\"poeme.txt\", 'r', encoding=\"utf-8\") as f:\n",
    "    lines = f.read()\n",
    "print(lines)"
   ],
   "metadata": {
    "collapsed": false,
    "ExecuteTime": {
     "end_time": "2023-05-26T13:03:59.065675400Z",
     "start_time": "2023-05-26T13:03:59.041675500Z"
    }
   }
  },
  {
   "cell_type": "code",
   "execution_count": 454,
   "outputs": [
    {
     "name": "stdout",
     "output_type": "stream",
     "text": [
      "Requirement already satisfied: spacy in c:\\users\\lucile\\anaconda3\\envs\\pythonproject\\lib\\site-packages (3.5.3)\n",
      "Requirement already satisfied: murmurhash<1.1.0,>=0.28.0 in c:\\users\\lucile\\anaconda3\\envs\\pythonproject\\lib\\site-packages (from spacy) (1.0.9)\n",
      "Requirement already satisfied: thinc<8.2.0,>=8.1.8 in c:\\users\\lucile\\anaconda3\\envs\\pythonproject\\lib\\site-packages (from spacy) (8.1.10)\n",
      "Requirement already satisfied: preshed<3.1.0,>=3.0.2 in c:\\users\\lucile\\anaconda3\\envs\\pythonproject\\lib\\site-packages (from spacy) (3.0.8)\n",
      "Requirement already satisfied: spacy-legacy<3.1.0,>=3.0.11 in c:\\users\\lucile\\anaconda3\\envs\\pythonproject\\lib\\site-packages (from spacy) (3.0.12)\n",
      "Requirement already satisfied: cymem<2.1.0,>=2.0.2 in c:\\users\\lucile\\anaconda3\\envs\\pythonproject\\lib\\site-packages (from spacy) (2.0.7)\n",
      "Requirement already satisfied: pydantic!=1.8,!=1.8.1,<1.11.0,>=1.7.4 in c:\\users\\lucile\\anaconda3\\envs\\pythonproject\\lib\\site-packages (from spacy) (1.10.8)\n",
      "Requirement already satisfied: jinja2 in c:\\users\\lucile\\anaconda3\\envs\\pythonproject\\lib\\site-packages (from spacy) (3.1.2)\n",
      "Requirement already satisfied: setuptools in c:\\users\\lucile\\anaconda3\\envs\\pythonproject\\lib\\site-packages (from spacy) (66.0.0)\n",
      "Requirement already satisfied: smart-open<7.0.0,>=5.2.1 in c:\\users\\lucile\\anaconda3\\envs\\pythonproject\\lib\\site-packages (from spacy) (6.3.0)\n",
      "Requirement already satisfied: spacy-loggers<2.0.0,>=1.0.0 in c:\\users\\lucile\\anaconda3\\envs\\pythonproject\\lib\\site-packages (from spacy) (1.0.4)\n",
      "Requirement already satisfied: srsly<3.0.0,>=2.4.3 in c:\\users\\lucile\\anaconda3\\envs\\pythonproject\\lib\\site-packages (from spacy) (2.4.6)\n",
      "Requirement already satisfied: tqdm<5.0.0,>=4.38.0 in c:\\users\\lucile\\anaconda3\\envs\\pythonproject\\lib\\site-packages (from spacy) (4.65.0)\n",
      "Requirement already satisfied: packaging>=20.0 in c:\\users\\lucile\\anaconda3\\envs\\pythonproject\\lib\\site-packages (from spacy) (23.0)\n",
      "Requirement already satisfied: wasabi<1.2.0,>=0.9.1 in c:\\users\\lucile\\anaconda3\\envs\\pythonproject\\lib\\site-packages (from spacy) (1.1.1)\n",
      "Requirement already satisfied: requests<3.0.0,>=2.13.0 in c:\\users\\lucile\\anaconda3\\envs\\pythonproject\\lib\\site-packages (from spacy) (2.29.0)\n",
      "Requirement already satisfied: typer<0.8.0,>=0.3.0 in c:\\users\\lucile\\anaconda3\\envs\\pythonproject\\lib\\site-packages (from spacy) (0.7.0)\n",
      "Requirement already satisfied: catalogue<2.1.0,>=2.0.6 in c:\\users\\lucile\\anaconda3\\envs\\pythonproject\\lib\\site-packages (from spacy) (2.0.8)\n",
      "Requirement already satisfied: pathy>=0.10.0 in c:\\users\\lucile\\anaconda3\\envs\\pythonproject\\lib\\site-packages (from spacy) (0.10.1)\n",
      "Requirement already satisfied: numpy>=1.15.0 in c:\\users\\lucile\\anaconda3\\envs\\pythonproject\\lib\\site-packages (from spacy) (1.24.3)\n",
      "Requirement already satisfied: langcodes<4.0.0,>=3.2.0 in c:\\users\\lucile\\anaconda3\\envs\\pythonproject\\lib\\site-packages (from spacy) (3.3.0)\n",
      "Requirement already satisfied: typing-extensions>=4.2.0 in c:\\users\\lucile\\anaconda3\\envs\\pythonproject\\lib\\site-packages (from pydantic!=1.8,!=1.8.1,<1.11.0,>=1.7.4->spacy) (4.5.0)\n",
      "Requirement already satisfied: urllib3<1.27,>=1.21.1 in c:\\users\\lucile\\anaconda3\\envs\\pythonproject\\lib\\site-packages (from requests<3.0.0,>=2.13.0->spacy) (1.26.15)\n",
      "Requirement already satisfied: idna<4,>=2.5 in c:\\users\\lucile\\anaconda3\\envs\\pythonproject\\lib\\site-packages (from requests<3.0.0,>=2.13.0->spacy) (3.4)\n",
      "Requirement already satisfied: charset-normalizer<4,>=2 in c:\\users\\lucile\\anaconda3\\envs\\pythonproject\\lib\\site-packages (from requests<3.0.0,>=2.13.0->spacy) (2.0.4)\n",
      "Requirement already satisfied: certifi>=2017.4.17 in c:\\users\\lucile\\anaconda3\\envs\\pythonproject\\lib\\site-packages (from requests<3.0.0,>=2.13.0->spacy) (2023.5.7)\n",
      "Requirement already satisfied: confection<1.0.0,>=0.0.1 in c:\\users\\lucile\\anaconda3\\envs\\pythonproject\\lib\\site-packages (from thinc<8.2.0,>=8.1.8->spacy) (0.0.4)\n",
      "Requirement already satisfied: blis<0.8.0,>=0.7.8 in c:\\users\\lucile\\anaconda3\\envs\\pythonproject\\lib\\site-packages (from thinc<8.2.0,>=8.1.8->spacy) (0.7.9)\n",
      "Requirement already satisfied: colorama in c:\\users\\lucile\\anaconda3\\envs\\pythonproject\\lib\\site-packages (from tqdm<5.0.0,>=4.38.0->spacy) (0.4.6)\n",
      "Requirement already satisfied: click<9.0.0,>=7.1.1 in c:\\users\\lucile\\anaconda3\\envs\\pythonproject\\lib\\site-packages (from typer<0.8.0,>=0.3.0->spacy) (8.1.3)\n",
      "Requirement already satisfied: MarkupSafe>=2.0 in c:\\users\\lucile\\anaconda3\\envs\\pythonproject\\lib\\site-packages (from jinja2->spacy) (2.1.1)\n",
      "Collecting fr-core-news-md==3.5.0\n",
      "  Downloading https://github.com/explosion/spacy-models/releases/download/fr_core_news_md-3.5.0/fr_core_news_md-3.5.0-py3-none-any.whl (45.8 MB)\n",
      "     ---------------------------------------- 0.0/45.8 MB ? eta -:--:--\n",
      "     ---------------------------------------- 0.2/45.8 MB 4.8 MB/s eta 0:00:10\n",
      "     ---------------------------------------- 0.3/45.8 MB 4.8 MB/s eta 0:00:10\n",
      "     ---------------------------------------- 0.3/45.8 MB 4.8 MB/s eta 0:00:10\n",
      "     ---------------------------------------- 0.4/45.8 MB 2.0 MB/s eta 0:00:23\n",
      "      --------------------------------------- 0.6/45.8 MB 2.9 MB/s eta 0:00:16\n",
      "      --------------------------------------- 0.7/45.8 MB 2.3 MB/s eta 0:00:20\n",
      "      --------------------------------------- 0.7/45.8 MB 2.3 MB/s eta 0:00:20\n",
      "      --------------------------------------- 0.7/45.8 MB 2.3 MB/s eta 0:00:20\n",
      "      --------------------------------------- 0.7/45.8 MB 1.7 MB/s eta 0:00:27\n",
      "      --------------------------------------- 1.1/45.8 MB 2.2 MB/s eta 0:00:20\n",
      "      --------------------------------------- 1.1/45.8 MB 2.3 MB/s eta 0:00:20\n",
      "      --------------------------------------- 1.1/45.8 MB 2.3 MB/s eta 0:00:20\n",
      "     - -------------------------------------- 1.2/45.8 MB 1.9 MB/s eta 0:00:24\n",
      "     - -------------------------------------- 1.6/45.8 MB 2.4 MB/s eta 0:00:19\n",
      "     - -------------------------------------- 1.9/45.8 MB 2.7 MB/s eta 0:00:17\n",
      "     - -------------------------------------- 1.9/45.8 MB 2.7 MB/s eta 0:00:17\n",
      "     - -------------------------------------- 1.9/45.8 MB 2.7 MB/s eta 0:00:17\n",
      "     - -------------------------------------- 2.1/45.8 MB 2.5 MB/s eta 0:00:18\n",
      "     -- ------------------------------------- 2.4/45.8 MB 2.7 MB/s eta 0:00:17\n",
      "     -- ------------------------------------- 2.4/45.8 MB 2.7 MB/s eta 0:00:17\n",
      "     -- ------------------------------------- 2.4/45.8 MB 2.7 MB/s eta 0:00:17\n",
      "     -- ------------------------------------- 2.5/45.8 MB 2.4 MB/s eta 0:00:19\n",
      "     -- ------------------------------------- 2.7/45.8 MB 2.5 MB/s eta 0:00:18\n",
      "     -- ------------------------------------- 2.8/45.8 MB 2.5 MB/s eta 0:00:17\n",
      "     -- ------------------------------------- 2.8/45.8 MB 2.5 MB/s eta 0:00:17\n",
      "     -- ------------------------------------- 3.0/45.8 MB 2.4 MB/s eta 0:00:18\n",
      "     -- ------------------------------------- 3.4/45.8 MB 2.6 MB/s eta 0:00:17\n",
      "     --- ------------------------------------ 3.8/45.8 MB 2.9 MB/s eta 0:00:15\n",
      "     --- ------------------------------------ 3.8/45.8 MB 2.9 MB/s eta 0:00:15\n",
      "     --- ------------------------------------ 3.8/45.8 MB 2.9 MB/s eta 0:00:15\n",
      "     --- ------------------------------------ 4.1/45.8 MB 2.8 MB/s eta 0:00:16\n",
      "     --- ------------------------------------ 4.5/45.8 MB 3.0 MB/s eta 0:00:14\n",
      "     ---- ----------------------------------- 4.7/45.8 MB 3.1 MB/s eta 0:00:14\n",
      "     ---- ----------------------------------- 4.7/45.8 MB 3.1 MB/s eta 0:00:14\n",
      "     ---- ----------------------------------- 4.7/45.8 MB 3.1 MB/s eta 0:00:14\n",
      "     ---- ----------------------------------- 4.7/45.8 MB 3.1 MB/s eta 0:00:14\n",
      "     ---- ----------------------------------- 4.9/45.8 MB 2.8 MB/s eta 0:00:15\n",
      "     ---- ----------------------------------- 4.9/45.8 MB 2.8 MB/s eta 0:00:15\n",
      "     ---- ----------------------------------- 5.1/45.8 MB 2.8 MB/s eta 0:00:15\n",
      "     ---- ----------------------------------- 5.6/45.8 MB 2.9 MB/s eta 0:00:14\n",
      "     ---- ----------------------------------- 5.7/45.8 MB 3.0 MB/s eta 0:00:14\n",
      "     ----- ---------------------------------- 6.1/45.8 MB 3.1 MB/s eta 0:00:14\n",
      "     ----- ---------------------------------- 6.4/45.8 MB 3.2 MB/s eta 0:00:13\n",
      "     ----- ---------------------------------- 6.8/45.8 MB 3.3 MB/s eta 0:00:12\n",
      "     ------ --------------------------------- 7.1/45.8 MB 3.4 MB/s eta 0:00:12\n",
      "     ------ --------------------------------- 7.4/45.8 MB 3.4 MB/s eta 0:00:12\n",
      "     ------ --------------------------------- 7.9/45.8 MB 3.5 MB/s eta 0:00:11\n",
      "     ------- -------------------------------- 8.2/45.8 MB 3.6 MB/s eta 0:00:11\n",
      "     ------- -------------------------------- 8.6/45.8 MB 3.7 MB/s eta 0:00:11\n",
      "     ------- -------------------------------- 9.1/45.8 MB 3.9 MB/s eta 0:00:10\n",
      "     -------- ------------------------------- 9.5/45.8 MB 3.9 MB/s eta 0:00:10\n",
      "     -------- ------------------------------- 10.0/45.8 MB 4.1 MB/s eta 0:00:09\n",
      "     --------- ------------------------------ 10.3/45.8 MB 4.1 MB/s eta 0:00:09\n",
      "     --------- ------------------------------ 10.7/45.8 MB 4.4 MB/s eta 0:00:09\n",
      "     --------- ------------------------------ 11.0/45.8 MB 4.8 MB/s eta 0:00:08\n",
      "     --------- ------------------------------ 11.3/45.8 MB 4.8 MB/s eta 0:00:08\n",
      "     ---------- ----------------------------- 11.6/45.8 MB 5.0 MB/s eta 0:00:07\n",
      "     ---------- ----------------------------- 12.0/45.8 MB 5.0 MB/s eta 0:00:07\n",
      "     ---------- ----------------------------- 12.5/45.8 MB 5.4 MB/s eta 0:00:07\n",
      "     ----------- ---------------------------- 12.7/45.8 MB 5.9 MB/s eta 0:00:06\n",
      "     ----------- ---------------------------- 12.8/45.8 MB 5.7 MB/s eta 0:00:06\n",
      "     ----------- ---------------------------- 13.0/45.8 MB 5.6 MB/s eta 0:00:06\n",
      "     ----------- ---------------------------- 13.6/45.8 MB 6.1 MB/s eta 0:00:06\n",
      "     ------------ --------------------------- 13.8/45.8 MB 6.1 MB/s eta 0:00:06\n",
      "     ------------ --------------------------- 14.3/45.8 MB 6.5 MB/s eta 0:00:05\n",
      "     ------------ --------------------------- 14.8/45.8 MB 6.5 MB/s eta 0:00:05\n",
      "     ------------- -------------------------- 15.2/45.8 MB 7.8 MB/s eta 0:00:04\n",
      "     ------------- -------------------------- 15.7/45.8 MB 7.8 MB/s eta 0:00:04\n",
      "     ------------- -------------------------- 16.0/45.8 MB 7.9 MB/s eta 0:00:04\n",
      "     -------------- ------------------------- 16.5/45.8 MB 8.1 MB/s eta 0:00:04\n",
      "     -------------- ------------------------- 16.9/45.8 MB 8.0 MB/s eta 0:00:04\n",
      "     --------------- ------------------------ 17.4/45.8 MB 8.2 MB/s eta 0:00:04\n",
      "     --------------- ------------------------ 17.8/45.8 MB 8.3 MB/s eta 0:00:04\n",
      "     --------------- ------------------------ 18.2/45.8 MB 8.4 MB/s eta 0:00:04\n",
      "     ---------------- ----------------------- 18.6/45.8 MB 8.3 MB/s eta 0:00:04\n",
      "     ---------------- ----------------------- 19.0/45.8 MB 8.3 MB/s eta 0:00:04\n",
      "     ----------------- ---------------------- 19.5/45.8 MB 8.3 MB/s eta 0:00:04\n",
      "     ----------------- ---------------------- 19.8/45.8 MB 8.2 MB/s eta 0:00:04\n",
      "     ----------------- ---------------------- 20.3/45.8 MB 8.2 MB/s eta 0:00:04\n",
      "     ------------------ --------------------- 20.8/45.8 MB 8.3 MB/s eta 0:00:04\n",
      "     ------------------ --------------------- 21.3/45.8 MB 8.5 MB/s eta 0:00:03\n",
      "     ------------------ --------------------- 21.7/45.8 MB 8.5 MB/s eta 0:00:03\n",
      "     ------------------- -------------------- 22.2/45.8 MB 8.7 MB/s eta 0:00:03\n",
      "     ------------------- -------------------- 22.4/45.8 MB 8.6 MB/s eta 0:00:03\n",
      "     ------------------- -------------------- 22.7/45.8 MB 8.4 MB/s eta 0:00:03\n",
      "     ------------------- -------------------- 22.9/45.8 MB 8.3 MB/s eta 0:00:03\n",
      "     -------------------- ------------------- 23.0/45.8 MB 8.4 MB/s eta 0:00:03\n",
      "     -------------------- ------------------- 23.2/45.8 MB 8.4 MB/s eta 0:00:03\n",
      "     -------------------- ------------------- 23.6/45.8 MB 8.3 MB/s eta 0:00:03\n",
      "     --------------------- ------------------ 24.1/45.8 MB 8.5 MB/s eta 0:00:03\n",
      "     --------------------- ------------------ 24.5/45.8 MB 8.4 MB/s eta 0:00:03\n",
      "     --------------------- ------------------ 25.0/45.8 MB 8.5 MB/s eta 0:00:03\n",
      "     ---------------------- ----------------- 25.4/45.8 MB 8.5 MB/s eta 0:00:03\n",
      "     ---------------------- ----------------- 25.8/45.8 MB 8.3 MB/s eta 0:00:03\n",
      "     ---------------------- ----------------- 26.3/45.8 MB 8.6 MB/s eta 0:00:03\n",
      "     ----------------------- ---------------- 26.8/45.8 MB 8.5 MB/s eta 0:00:03\n",
      "     ----------------------- ---------------- 27.0/45.8 MB 8.5 MB/s eta 0:00:03\n",
      "     ----------------------- ---------------- 27.5/45.8 MB 8.5 MB/s eta 0:00:03\n",
      "     ------------------------ --------------- 28.0/45.8 MB 8.5 MB/s eta 0:00:03\n",
      "     ------------------------ --------------- 28.5/45.8 MB 8.6 MB/s eta 0:00:03\n",
      "     ------------------------ --------------- 28.6/45.8 MB 8.3 MB/s eta 0:00:03\n",
      "     ------------------------- -------------- 28.9/45.8 MB 8.3 MB/s eta 0:00:03\n",
      "     ------------------------- -------------- 29.3/45.8 MB 8.3 MB/s eta 0:00:02\n",
      "     ------------------------- -------------- 29.8/45.8 MB 8.3 MB/s eta 0:00:02\n",
      "     -------------------------- ------------- 30.1/45.8 MB 8.3 MB/s eta 0:00:02\n",
      "     -------------------------- ------------- 30.5/45.8 MB 8.2 MB/s eta 0:00:02\n",
      "     -------------------------- ------------- 30.9/45.8 MB 8.2 MB/s eta 0:00:02\n",
      "     --------------------------- ------------ 31.3/45.8 MB 8.1 MB/s eta 0:00:02\n",
      "     --------------------------- ------------ 31.3/45.8 MB 8.1 MB/s eta 0:00:02\n",
      "     --------------------------- ------------ 31.6/45.8 MB 7.7 MB/s eta 0:00:02\n",
      "     --------------------------- ------------ 31.9/45.8 MB 7.6 MB/s eta 0:00:02\n",
      "     ---------------------------- ----------- 32.3/45.8 MB 7.5 MB/s eta 0:00:02\n",
      "     ---------------------------- ----------- 32.8/45.8 MB 7.7 MB/s eta 0:00:02\n",
      "     ---------------------------- ----------- 33.1/45.8 MB 7.9 MB/s eta 0:00:02\n",
      "     ----------------------------- ---------- 33.5/45.8 MB 8.3 MB/s eta 0:00:02\n",
      "     ----------------------------- ---------- 34.0/45.8 MB 8.3 MB/s eta 0:00:02\n",
      "     ------------------------------ --------- 34.4/45.8 MB 8.2 MB/s eta 0:00:02\n",
      "     ------------------------------ --------- 34.8/45.8 MB 8.3 MB/s eta 0:00:02\n",
      "     ------------------------------ --------- 35.3/45.8 MB 8.2 MB/s eta 0:00:02\n",
      "     ------------------------------- -------- 35.8/45.8 MB 8.2 MB/s eta 0:00:02\n",
      "     ------------------------------- -------- 36.1/45.8 MB 8.2 MB/s eta 0:00:02\n",
      "     ------------------------------- -------- 36.4/45.8 MB 8.2 MB/s eta 0:00:02\n",
      "     -------------------------------- ------- 36.9/45.8 MB 8.0 MB/s eta 0:00:02\n",
      "     -------------------------------- ------- 37.2/45.8 MB 8.2 MB/s eta 0:00:02\n",
      "     -------------------------------- ------- 37.7/45.8 MB 8.1 MB/s eta 0:00:02\n",
      "     --------------------------------- ------ 37.8/45.8 MB 8.0 MB/s eta 0:00:02\n",
      "     --------------------------------- ------ 38.0/45.8 MB 7.8 MB/s eta 0:00:02\n",
      "     --------------------------------- ------ 38.2/45.8 MB 7.6 MB/s eta 0:00:02\n",
      "     --------------------------------- ------ 38.4/45.8 MB 7.5 MB/s eta 0:00:01\n",
      "     --------------------------------- ------ 38.7/45.8 MB 7.4 MB/s eta 0:00:01\n",
      "     ---------------------------------- ----- 39.0/45.8 MB 7.6 MB/s eta 0:00:01\n",
      "     ---------------------------------- ----- 39.6/45.8 MB 7.6 MB/s eta 0:00:01\n",
      "     ---------------------------------- ----- 39.9/45.8 MB 7.5 MB/s eta 0:00:01\n",
      "     ---------------------------------- ----- 40.0/45.8 MB 7.4 MB/s eta 0:00:01\n",
      "     ----------------------------------- ---- 40.2/45.8 MB 7.3 MB/s eta 0:00:01\n",
      "     ----------------------------------- ---- 40.6/45.8 MB 7.4 MB/s eta 0:00:01\n",
      "     ----------------------------------- ---- 40.8/45.8 MB 7.4 MB/s eta 0:00:01\n",
      "     ----------------------------------- ---- 40.8/45.8 MB 7.4 MB/s eta 0:00:01\n",
      "     ----------------------------------- ---- 41.0/45.8 MB 6.8 MB/s eta 0:00:01\n",
      "     ------------------------------------ --- 41.5/45.8 MB 6.9 MB/s eta 0:00:01\n",
      "     ------------------------------------ --- 41.9/45.8 MB 7.1 MB/s eta 0:00:01\n",
      "     ------------------------------------ --- 42.3/45.8 MB 7.3 MB/s eta 0:00:01\n",
      "     ------------------------------------- -- 42.7/45.8 MB 7.3 MB/s eta 0:00:01\n",
      "     ------------------------------------- -- 43.1/45.8 MB 7.1 MB/s eta 0:00:01\n",
      "     -------------------------------------- - 43.5/45.8 MB 7.2 MB/s eta 0:00:01\n",
      "     -------------------------------------- - 43.8/45.8 MB 7.2 MB/s eta 0:00:01\n",
      "     -------------------------------------- - 44.1/45.8 MB 7.0 MB/s eta 0:00:01\n",
      "     -------------------------------------- - 44.6/45.8 MB 7.0 MB/s eta 0:00:01\n",
      "     ---------------------------------------  45.0/45.8 MB 7.0 MB/s eta 0:00:01\n",
      "     ---------------------------------------  45.4/45.8 MB 7.0 MB/s eta 0:00:01\n",
      "     ---------------------------------------  45.7/45.8 MB 7.0 MB/s eta 0:00:01\n",
      "     ---------------------------------------  45.8/45.8 MB 7.0 MB/s eta 0:00:01\n",
      "     ---------------------------------------  45.8/45.8 MB 7.0 MB/s eta 0:00:01\n",
      "     ---------------------------------------  45.8/45.8 MB 7.0 MB/s eta 0:00:01\n",
      "     ---------------------------------------  45.8/45.8 MB 7.0 MB/s eta 0:00:01\n",
      "     ---------------------------------------  45.8/45.8 MB 7.0 MB/s eta 0:00:01\n",
      "     ---------------------------------------  45.8/45.8 MB 7.0 MB/s eta 0:00:01\n",
      "     ---------------------------------------- 45.8/45.8 MB 5.6 MB/s eta 0:00:00\n",
      "Requirement already satisfied: spacy<3.6.0,>=3.5.0 in c:\\users\\lucile\\anaconda3\\envs\\pythonproject\\lib\\site-packages (from fr-core-news-md==3.5.0) (3.5.3)\n",
      "Requirement already satisfied: jinja2 in c:\\users\\lucile\\anaconda3\\envs\\pythonproject\\lib\\site-packages (from spacy<3.6.0,>=3.5.0->fr-core-news-md==3.5.0) (3.1.2)\n",
      "Requirement already satisfied: murmurhash<1.1.0,>=0.28.0 in c:\\users\\lucile\\anaconda3\\envs\\pythonproject\\lib\\site-packages (from spacy<3.6.0,>=3.5.0->fr-core-news-md==3.5.0) (1.0.9)\n",
      "Requirement already satisfied: pydantic!=1.8,!=1.8.1,<1.11.0,>=1.7.4 in c:\\users\\lucile\\anaconda3\\envs\\pythonproject\\lib\\site-packages (from spacy<3.6.0,>=3.5.0->fr-core-news-md==3.5.0) (1.10.8)\n",
      "Requirement already satisfied: setuptools in c:\\users\\lucile\\anaconda3\\envs\\pythonproject\\lib\\site-packages (from spacy<3.6.0,>=3.5.0->fr-core-news-md==3.5.0) (66.0.0)\n",
      "Requirement already satisfied: requests<3.0.0,>=2.13.0 in c:\\users\\lucile\\anaconda3\\envs\\pythonproject\\lib\\site-packages (from spacy<3.6.0,>=3.5.0->fr-core-news-md==3.5.0) (2.29.0)\n",
      "Requirement already satisfied: spacy-legacy<3.1.0,>=3.0.11 in c:\\users\\lucile\\anaconda3\\envs\\pythonproject\\lib\\site-packages (from spacy<3.6.0,>=3.5.0->fr-core-news-md==3.5.0) (3.0.12)\n",
      "Requirement already satisfied: spacy-loggers<2.0.0,>=1.0.0 in c:\\users\\lucile\\anaconda3\\envs\\pythonproject\\lib\\site-packages (from spacy<3.6.0,>=3.5.0->fr-core-news-md==3.5.0) (1.0.4)\n",
      "Requirement already satisfied: cymem<2.1.0,>=2.0.2 in c:\\users\\lucile\\anaconda3\\envs\\pythonproject\\lib\\site-packages (from spacy<3.6.0,>=3.5.0->fr-core-news-md==3.5.0) (2.0.7)\n",
      "Requirement already satisfied: catalogue<2.1.0,>=2.0.6 in c:\\users\\lucile\\anaconda3\\envs\\pythonproject\\lib\\site-packages (from spacy<3.6.0,>=3.5.0->fr-core-news-md==3.5.0) (2.0.8)\n",
      "Requirement already satisfied: smart-open<7.0.0,>=5.2.1 in c:\\users\\lucile\\anaconda3\\envs\\pythonproject\\lib\\site-packages (from spacy<3.6.0,>=3.5.0->fr-core-news-md==3.5.0) (6.3.0)\n",
      "Requirement already satisfied: typer<0.8.0,>=0.3.0 in c:\\users\\lucile\\anaconda3\\envs\\pythonproject\\lib\\site-packages (from spacy<3.6.0,>=3.5.0->fr-core-news-md==3.5.0) (0.7.0)\n",
      "Requirement already satisfied: preshed<3.1.0,>=3.0.2 in c:\\users\\lucile\\anaconda3\\envs\\pythonproject\\lib\\site-packages (from spacy<3.6.0,>=3.5.0->fr-core-news-md==3.5.0) (3.0.8)\n",
      "Requirement already satisfied: srsly<3.0.0,>=2.4.3 in c:\\users\\lucile\\anaconda3\\envs\\pythonproject\\lib\\site-packages (from spacy<3.6.0,>=3.5.0->fr-core-news-md==3.5.0) (2.4.6)\n",
      "Requirement already satisfied: langcodes<4.0.0,>=3.2.0 in c:\\users\\lucile\\anaconda3\\envs\\pythonproject\\lib\\site-packages (from spacy<3.6.0,>=3.5.0->fr-core-news-md==3.5.0) (3.3.0)\n",
      "Requirement already satisfied: thinc<8.2.0,>=8.1.8 in c:\\users\\lucile\\anaconda3\\envs\\pythonproject\\lib\\site-packages (from spacy<3.6.0,>=3.5.0->fr-core-news-md==3.5.0) (8.1.10)\n",
      "Requirement already satisfied: pathy>=0.10.0 in c:\\users\\lucile\\anaconda3\\envs\\pythonproject\\lib\\site-packages (from spacy<3.6.0,>=3.5.0->fr-core-news-md==3.5.0) (0.10.1)\n",
      "Requirement already satisfied: packaging>=20.0 in c:\\users\\lucile\\anaconda3\\envs\\pythonproject\\lib\\site-packages (from spacy<3.6.0,>=3.5.0->fr-core-news-md==3.5.0) (23.0)\n",
      "Requirement already satisfied: wasabi<1.2.0,>=0.9.1 in c:\\users\\lucile\\anaconda3\\envs\\pythonproject\\lib\\site-packages (from spacy<3.6.0,>=3.5.0->fr-core-news-md==3.5.0) (1.1.1)\n",
      "Requirement already satisfied: tqdm<5.0.0,>=4.38.0 in c:\\users\\lucile\\anaconda3\\envs\\pythonproject\\lib\\site-packages (from spacy<3.6.0,>=3.5.0->fr-core-news-md==3.5.0) (4.65.0)\n",
      "Requirement already satisfied: numpy>=1.15.0 in c:\\users\\lucile\\anaconda3\\envs\\pythonproject\\lib\\site-packages (from spacy<3.6.0,>=3.5.0->fr-core-news-md==3.5.0) (1.24.3)\n",
      "Requirement already satisfied: typing-extensions>=4.2.0 in c:\\users\\lucile\\anaconda3\\envs\\pythonproject\\lib\\site-packages (from pydantic!=1.8,!=1.8.1,<1.11.0,>=1.7.4->spacy<3.6.0,>=3.5.0->fr-core-news-md==3.5.0) (4.5.0)\n",
      "Requirement already satisfied: charset-normalizer<4,>=2 in c:\\users\\lucile\\anaconda3\\envs\\pythonproject\\lib\\site-packages (from requests<3.0.0,>=2.13.0->spacy<3.6.0,>=3.5.0->fr-core-news-md==3.5.0) (2.0.4)\n",
      "Requirement already satisfied: idna<4,>=2.5 in c:\\users\\lucile\\anaconda3\\envs\\pythonproject\\lib\\site-packages (from requests<3.0.0,>=2.13.0->spacy<3.6.0,>=3.5.0->fr-core-news-md==3.5.0) (3.4)\n",
      "Requirement already satisfied: urllib3<1.27,>=1.21.1 in c:\\users\\lucile\\anaconda3\\envs\\pythonproject\\lib\\site-packages (from requests<3.0.0,>=2.13.0->spacy<3.6.0,>=3.5.0->fr-core-news-md==3.5.0) (1.26.15)\n",
      "Requirement already satisfied: certifi>=2017.4.17 in c:\\users\\lucile\\anaconda3\\envs\\pythonproject\\lib\\site-packages (from requests<3.0.0,>=2.13.0->spacy<3.6.0,>=3.5.0->fr-core-news-md==3.5.0) (2023.5.7)\n",
      "Requirement already satisfied: blis<0.8.0,>=0.7.8 in c:\\users\\lucile\\anaconda3\\envs\\pythonproject\\lib\\site-packages (from thinc<8.2.0,>=8.1.8->spacy<3.6.0,>=3.5.0->fr-core-news-md==3.5.0) (0.7.9)\n",
      "Requirement already satisfied: confection<1.0.0,>=0.0.1 in c:\\users\\lucile\\anaconda3\\envs\\pythonproject\\lib\\site-packages (from thinc<8.2.0,>=8.1.8->spacy<3.6.0,>=3.5.0->fr-core-news-md==3.5.0) (0.0.4)\n",
      "Requirement already satisfied: colorama in c:\\users\\lucile\\anaconda3\\envs\\pythonproject\\lib\\site-packages (from tqdm<5.0.0,>=4.38.0->spacy<3.6.0,>=3.5.0->fr-core-news-md==3.5.0) (0.4.6)\n",
      "Requirement already satisfied: click<9.0.0,>=7.1.1 in c:\\users\\lucile\\anaconda3\\envs\\pythonproject\\lib\\site-packages (from typer<0.8.0,>=0.3.0->spacy<3.6.0,>=3.5.0->fr-core-news-md==3.5.0) (8.1.3)\n",
      "Requirement already satisfied: MarkupSafe>=2.0 in c:\\users\\lucile\\anaconda3\\envs\\pythonproject\\lib\\site-packages (from jinja2->spacy<3.6.0,>=3.5.0->fr-core-news-md==3.5.0) (2.1.1)\n",
      "Installing collected packages: fr-core-news-md\n",
      "Successfully installed fr-core-news-md-3.5.0\n",
      "\u001B[38;5;2m[+] Download and installation successful\u001B[0m\n",
      "You can now load the package via spacy.load('fr_core_news_md')\n"
     ]
    }
   ],
   "source": [
    "!pip install spacy\n",
    "import spacy\n",
    "#!python -m spacy download fr_core_news_sm\n",
    "!python -m spacy download fr_core_news_md\n"
   ],
   "metadata": {
    "collapsed": false,
    "ExecuteTime": {
     "end_time": "2023-05-26T10:32:58.680210300Z",
     "start_time": "2023-05-26T10:32:39.955875600Z"
    }
   }
  },
  {
   "cell_type": "code",
   "execution_count": 505,
   "outputs": [
    {
     "name": "stdout",
     "output_type": "stream",
     "text": [
      "Demain, dès l'aube, à l'heure où blanchit la campagne,\n",
      "Je partirai. Vois-tu, je sais que tu m'attends.\n",
      "J'irai par la forêt, j'irai par la montagne.\n",
      "Je ne puis demeurer loin de toi plus longtemps.\n",
      "\n",
      "Je marcherai les yeux fixés sur mes pensées,\n",
      "Sans rien voir au dehors, sans entendre aucun bruit,\n",
      "Seul, inconnu, le dos courbé, les mains croisées,\n",
      "Triste, et le jour pour moi sera comme la nuit.\n",
      "\n",
      "Je ne regarderai ni l'or du soir qui tombe,\n",
      "Ni les voiles au loin descendant vers Harfleur,\n",
      "Et quand j'arriverai, je mettrai sur ta tombe\n",
      "Un bouquet de houx vert et de bruyère en fleur.\n"
     ]
    }
   ],
   "source": [
    "import spacy\n",
    "\n",
    "nlp = spacy.load(\"fr_core_news_md\")\n",
    "stopwords = spacy.lang.fr.stop_words.STOP_WORDS\n",
    "doc = nlp(lines)\n",
    "print(doc.text)"
   ],
   "metadata": {
    "collapsed": false,
    "ExecuteTime": {
     "end_time": "2023-05-26T13:04:27.678270Z",
     "start_time": "2023-05-26T13:04:16.841201600Z"
    }
   }
  },
  {
   "cell_type": "code",
   "execution_count": 515,
   "outputs": [
    {
     "data": {
      "text/plain": "{'a',\n 'abord',\n 'afin',\n 'ah',\n 'ai',\n 'aie',\n 'ainsi',\n 'ait',\n 'allaient',\n 'allons',\n 'alors',\n 'anterieur',\n 'anterieure',\n 'anterieures',\n 'antérieur',\n 'antérieure',\n 'antérieures',\n 'apres',\n 'après',\n 'as',\n 'assez',\n 'attendu',\n 'au',\n 'aupres',\n 'auquel',\n 'aura',\n 'auraient',\n 'aurait',\n 'auront',\n 'aussi',\n 'autre',\n 'autrement',\n 'autres',\n 'autrui',\n 'aux',\n 'auxquelles',\n 'auxquels',\n 'avaient',\n 'avais',\n 'avait',\n 'avant',\n 'avec',\n 'avoir',\n 'avons',\n 'ayant',\n 'bas',\n 'basee',\n 'bat',\n \"c'\",\n 'car',\n 'ce',\n 'ceci',\n 'cela',\n 'celle',\n 'celle-ci',\n 'celle-la',\n 'celle-là',\n 'celles',\n 'celles-ci',\n 'celles-la',\n 'celles-là',\n 'celui',\n 'celui-ci',\n 'celui-la',\n 'celui-là',\n 'cent',\n 'cependant',\n 'certain',\n 'certaine',\n 'certaines',\n 'certains',\n 'certes',\n 'ces',\n 'cet',\n 'cette',\n 'ceux',\n 'ceux-ci',\n 'ceux-là',\n 'chacun',\n 'chacune',\n 'chaque',\n 'chez',\n 'ci',\n 'cinq',\n 'cinquantaine',\n 'cinquante',\n 'cinquantième',\n 'cinquième',\n 'combien',\n 'comme',\n 'comment',\n 'compris',\n 'concernant',\n 'c’',\n \"d'\",\n 'da',\n 'dans',\n 'de',\n 'debout',\n 'dedans',\n 'dehors',\n 'deja',\n 'dejà',\n 'delà',\n 'depuis',\n 'derriere',\n 'derrière',\n 'des',\n 'desormais',\n 'desquelles',\n 'desquels',\n 'dessous',\n 'dessus',\n 'deux',\n 'deuxième',\n 'deuxièmement',\n 'devant',\n 'devers',\n 'devra',\n 'different',\n 'differente',\n 'differentes',\n 'differents',\n 'différent',\n 'différente',\n 'différentes',\n 'différents',\n 'dire',\n 'directe',\n 'directement',\n 'dit',\n 'dite',\n 'dits',\n 'divers',\n 'diverse',\n 'diverses',\n 'dix',\n 'dix-huit',\n 'dix-neuf',\n 'dix-sept',\n 'dixième',\n 'doit',\n 'doivent',\n 'donc',\n 'dont',\n 'douze',\n 'douzième',\n 'du',\n 'duquel',\n 'durant',\n 'dès',\n 'déja',\n 'déjà',\n 'désormais',\n 'd’',\n 'effet',\n 'egalement',\n 'eh',\n 'elle',\n 'elle-meme',\n 'elle-même',\n 'elles',\n 'elles-memes',\n 'elles-mêmes',\n 'en',\n 'encore',\n 'enfin',\n 'entre',\n 'envers',\n 'environ',\n 'es',\n 'est',\n 'et',\n 'etaient',\n 'etais',\n 'etait',\n 'etant',\n 'etc',\n 'etre',\n 'eu',\n 'eux',\n 'eux-mêmes',\n 'exactement',\n 'excepté',\n 'facon',\n 'fais',\n 'faisaient',\n 'faisant',\n 'fait',\n 'façon',\n 'feront',\n 'font',\n 'gens',\n 'ha',\n 'hem',\n 'hep',\n 'hi',\n 'ho',\n 'hormis',\n 'hors',\n 'hou',\n 'houp',\n 'hue',\n 'hui',\n 'huit',\n 'huitième',\n 'hé',\n 'i',\n 'il',\n 'ils',\n 'importe',\n \"j'\",\n 'je',\n 'jusqu',\n 'jusque',\n 'juste',\n 'j’',\n \"l'\",\n 'la',\n 'laisser',\n 'laquelle',\n 'le',\n 'lequel',\n 'les',\n 'lesquelles',\n 'lesquels',\n 'leur',\n 'leurs',\n 'longtemps',\n 'lors',\n 'lorsque',\n 'lui',\n 'lui-meme',\n 'lui-même',\n 'là',\n 'lès',\n 'l’',\n \"m'\",\n 'ma',\n 'maint',\n 'maintenant',\n 'mais',\n 'malgre',\n 'malgré',\n 'me',\n 'meme',\n 'memes',\n 'merci',\n 'mes',\n 'mien',\n 'mienne',\n 'miennes',\n 'miens',\n 'mille',\n 'moi',\n 'moi-meme',\n 'moi-même',\n 'moindres',\n 'moins',\n 'mon',\n 'même',\n 'mêmes',\n 'm’',\n \"n'\",\n 'na',\n 'ne',\n 'neanmoins',\n 'neuvième',\n 'ni',\n 'nombreuses',\n 'nombreux',\n 'nos',\n 'notamment',\n 'notre',\n 'nous',\n 'nous-mêmes',\n 'nouveau',\n 'nul',\n 'néanmoins',\n 'nôtre',\n 'nôtres',\n 'n’',\n 'o',\n 'on',\n 'ont',\n 'onze',\n 'onzième',\n 'or',\n 'ou',\n 'ouias',\n 'ouste',\n 'outre',\n 'ouvert',\n 'ouverte',\n 'ouverts',\n 'où',\n 'par',\n 'parce',\n 'parfois',\n 'parle',\n 'parlent',\n 'parler',\n 'parmi',\n 'partant',\n 'pas',\n 'pendant',\n 'pense',\n 'permet',\n 'personne',\n 'peu',\n 'peut',\n 'peuvent',\n 'peux',\n 'plus',\n 'plusieurs',\n 'plutot',\n 'plutôt',\n 'possible',\n 'possibles',\n 'pour',\n 'pourquoi',\n 'pourrais',\n 'pourrait',\n 'pouvait',\n 'prealable',\n 'precisement',\n 'premier',\n 'première',\n 'premièrement',\n 'pres',\n 'procedant',\n 'proche',\n 'près',\n 'préalable',\n 'précisement',\n 'pu',\n 'puis',\n 'puisque',\n \"qu'\",\n 'quand',\n 'quant',\n 'quant-à-soi',\n 'quarante',\n 'quatorze',\n 'quatre',\n 'quatre-vingt',\n 'quatrième',\n 'quatrièmement',\n 'que',\n 'quel',\n 'quelconque',\n 'quelle',\n 'quelles',\n \"quelqu'un\",\n 'quelque',\n 'quelques',\n 'quels',\n 'qui',\n 'quiconque',\n 'quinze',\n 'quoi',\n 'quoique',\n 'qu’',\n 'relative',\n 'relativement',\n 'rend',\n 'rendre',\n 'restant',\n 'reste',\n 'restent',\n 'retour',\n 'revoici',\n 'revoila',\n 'revoilà',\n \"s'\",\n 'sa',\n 'sait',\n 'sans',\n 'sauf',\n 'se',\n 'seize',\n 'selon',\n 'semblable',\n 'semblaient',\n 'semble',\n 'semblent',\n 'sent',\n 'sept',\n 'septième',\n 'sera',\n 'seraient',\n 'serait',\n 'seront',\n 'ses',\n 'seul',\n 'seule',\n 'seulement',\n 'seules',\n 'seuls',\n 'si',\n 'sien',\n 'sienne',\n 'siennes',\n 'siens',\n 'sinon',\n 'six',\n 'sixième',\n 'soi',\n 'soi-meme',\n 'soi-même',\n 'soit',\n 'soixante',\n 'son',\n 'sont',\n 'sous',\n 'souvent',\n 'specifique',\n 'specifiques',\n 'spécifique',\n 'spécifiques',\n 'stop',\n 'suffisant',\n 'suffisante',\n 'suffit',\n 'suis',\n 'suit',\n 'suivant',\n 'suivante',\n 'suivantes',\n 'suivants',\n 'suivre',\n 'sur',\n 'surtout',\n 's’',\n \"t'\",\n 'ta',\n 'tant',\n 'te',\n 'tel',\n 'telle',\n 'tellement',\n 'telles',\n 'tels',\n 'tenant',\n 'tend',\n 'tenir',\n 'tente',\n 'tes',\n 'tien',\n 'tienne',\n 'tiennes',\n 'tiens',\n 'toi',\n 'toi-meme',\n 'toi-même',\n 'ton',\n 'touchant',\n 'toujours',\n 'tous',\n 'tout',\n 'toute',\n 'toutes',\n 'treize',\n 'trente',\n 'tres',\n 'trois',\n 'troisième',\n 'troisièmement',\n 'très',\n 'tu',\n 'té',\n 't’',\n 'un',\n 'une',\n 'unes',\n 'uns',\n 'va',\n 'vais',\n 'vas',\n 'vers',\n 'via',\n 'vingt',\n 'voici',\n 'voila',\n 'voilà',\n 'vont',\n 'vos',\n 'votre',\n 'votres',\n 'vous',\n 'vous-mêmes',\n 'vu',\n 'vé',\n 'vôtre',\n 'vôtres',\n 'y',\n 'à',\n 'â',\n 'ça',\n 'ès',\n 'également',\n 'étaient',\n 'étais',\n 'était',\n 'étant',\n 'être',\n 'ô'}"
     },
     "execution_count": 515,
     "metadata": {},
     "output_type": "execute_result"
    }
   ],
   "source": [
    "stopwords"
   ],
   "metadata": {
    "collapsed": false,
    "ExecuteTime": {
     "end_time": "2023-05-26T14:28:04.312412700Z",
     "start_time": "2023-05-26T14:28:04.296326200Z"
    }
   }
  },
  {
   "cell_type": "code",
   "execution_count": 507,
   "outputs": [
    {
     "name": "stderr",
     "output_type": "stream",
     "text": [
      "Traitement des tokens: 100%|██████████| 146/146 [00:00<?, ?it/s]"
     ]
    },
    {
     "name": "stdout",
     "output_type": "stream",
     "text": [
      "Demain PROPN obl:mod Demain Xxxxx \n",
      ", PUNCT punct , , \n",
      "dès ADP case dès xxx \n",
      "l' DET det le x' Definite=Def|Number=Sing|PronType=Art\n",
      "aube NOUN obl:mod aube xxxx Gender=Fem|Number=Sing\n",
      ", PUNCT punct , , \n",
      "à ADP case à x \n",
      "l' DET det le x' Definite=Def|Number=Sing|PronType=Art\n",
      "heure NOUN obl:mod heure xxxx Gender=Fem|Number=Sing\n",
      "où PRON iobj où xx PronType=Rel\n",
      "blanchit NOUN acl:relcl blanchit xxxx Gender=Fem|Number=Sing\n",
      "la DET det le xx Definite=Def|Gender=Fem|Number=Sing|PronType=Art\n",
      "campagne NOUN obj campagne xxxx Gender=Fem|Number=Sing\n",
      ", PUNCT punct , , \n",
      "\n",
      " SPACE dep \n",
      " \n",
      " \n",
      "Je PRON nsubj je Xx Number=Sing|Person=1\n",
      "partirai VERB ROOT partir xxxx Mood=Ind|Number=Sing|Person=1|Tense=Pres|VerbForm=Fin\n",
      ". PUNCT punct . . \n",
      "Vois PRON ROOT voir Xxxx Number=Sing|Person=2|PronType=Prs\n",
      "- PROPN ROOT - - \n",
      "tu NOUN obl:mod tu xx Gender=Masc|Number=Sing\n",
      ", PUNCT punct , , \n",
      "je PRON nsubj je xx Number=Sing|Person=1\n",
      "sais VERB advcl savoir xxxx Mood=Ind|Number=Sing|Person=1|Tense=Pres|VerbForm=Fin\n",
      "que SCONJ mark que xxx \n",
      "tu PRON nsubj tu xx Number=Sing|Person=1\n",
      "m' PRON expl:comp me x' Number=Sing|Person=1|Reflex=Yes\n",
      "attends VERB ccomp attendre xxxx Mood=Ind|Number=Sing|Person=1|Tense=Pres|VerbForm=Fin\n",
      ". PUNCT punct . . \n",
      "\n",
      " SPACE dep \n",
      " \n",
      " \n",
      "J' PRON nsubj je X' Number=Sing|Person=1\n",
      "irai VERB xcomp aller xxxx Mood=Ind|Number=Sing|Person=1|Tense=Pres|VerbForm=Fin\n",
      "par ADP case par xxx \n",
      "la DET det le xx Definite=Def|Gender=Fem|Number=Sing|PronType=Art\n",
      "forêt NOUN obl:agent forêt xxxx Gender=Fem|Number=Sing\n",
      ", PUNCT punct , , \n",
      "j' PRON nsubj je x' Number=Sing|Person=1\n",
      "irai VERB ROOT aller xxxx Mood=Ind|Number=Sing|Person=1|Tense=Pres|VerbForm=Fin\n",
      "par ADP case par xxx \n",
      "la DET det le xx Definite=Def|Gender=Fem|Number=Sing|PronType=Art\n",
      "montagne NOUN obl:agent montagne xxxx Gender=Fem|Number=Sing\n",
      ". PUNCT punct . . \n",
      "\n",
      " SPACE dep \n",
      " \n",
      " \n",
      "Je PRON nsubj je Xx Number=Sing|Person=1\n",
      "ne ADV advmod ne xx Polarity=Neg\n",
      "puis VERB iobj pouvoir xxxx Mood=Ind|Number=Sing|Person=1|Tense=Pres|VerbForm=Fin\n",
      "demeurer VERB ROOT demeurer xxxx VerbForm=Inf\n",
      "loin ADV obj loin xxxx \n",
      "de ADP case de xx \n",
      "toi PRON dep toi xxx Number=Sing|Person=1|PronType=Prs\n",
      "plus ADV advmod plus xxxx \n",
      "longtemps ADV amod longtemps xxxx \n",
      ". PUNCT punct . . \n",
      "\n",
      "\n",
      " SPACE dep \n",
      "\n",
      " \n",
      "\n",
      " \n",
      "Je PRON nsubj je Xx Number=Sing|Person=1\n",
      "marcherai VERB advcl marcher xxxx Mood=Ind|Number=Sing|Person=1|Tense=Pres|VerbForm=Fin\n",
      "les DET det le xxx Definite=Def|Number=Plur|PronType=Art\n",
      "yeux NOUN obj oeil xxxx Gender=Masc|Number=Plur\n",
      "fixés VERB acl fixer xxxx Gender=Masc|Number=Plur|Tense=Past|VerbForm=Part\n",
      "sur ADP case sur xxx \n",
      "mes DET det mon xxx Number=Plur|Poss=Yes\n",
      "pensées NOUN obl:mod pensée xxxx Gender=Fem|Number=Plur\n",
      ", PUNCT punct , , \n",
      "\n",
      " SPACE dep \n",
      " \n",
      " \n",
      "Sans ADP case sans Xxxx \n",
      "rien PRON obl:mod rien xxxx Number=Sing\n",
      "voir VERB acl voir xxxx VerbForm=Inf\n",
      "au ADP advmod au xx Definite=Def|Gender=Masc|Number=Sing|PronType=Art\n",
      "dehors ADP fixed dehors xxxx \n",
      ", PUNCT punct , , \n",
      "sans ADP mark sans xxxx \n",
      "entendre VERB advcl entendre xxxx VerbForm=Inf\n",
      "aucun DET det aucun xxxx Gender=Masc|Number=Sing\n",
      "bruit NOUN obj bruit xxxx Gender=Masc|Number=Sing\n",
      ", PUNCT punct , , \n",
      "\n",
      " SPACE dep \n",
      " \n",
      " \n",
      "Seul ADJ amod seul Xxxx Gender=Masc|Number=Sing\n",
      ", PUNCT punct , , \n",
      "inconnu ADJ amod inconnu xxxx Gender=Masc|Number=Sing\n",
      ", PUNCT punct , , \n",
      "le DET det le xx Definite=Def|Gender=Masc|Number=Sing|PronType=Art\n",
      "dos NOUN nsubj dos xxx Gender=Masc|Number=Sing\n",
      "courbé VERB acl courber xxxx Gender=Masc|Number=Sing|Tense=Past|VerbForm=Part\n",
      ", PUNCT punct , , \n",
      "les DET det le xxx Definite=Def|Number=Plur|PronType=Art\n",
      "mains NOUN appos main xxxx Gender=Fem|Number=Plur\n",
      "croisées ADJ amod croisé xxxx Gender=Fem|Number=Plur\n",
      ", PUNCT punct , , \n",
      "\n",
      " SPACE dep \n",
      " \n",
      " \n",
      "Triste ADJ conj triste Xxxxx Number=Sing\n",
      ", PUNCT punct , , \n",
      "et CCONJ cc et xx \n",
      "le DET det le xx Definite=Def|Gender=Masc|Number=Sing|PronType=Art\n",
      "jour NOUN conj jour xxxx Gender=Masc|Number=Sing\n",
      "pour ADP case pour xxxx \n",
      "moi PRON nmod moi xxx Number=Sing|Person=1|PronType=Prs\n",
      "sera AUX cop être xxxx Mood=Ind|Number=Sing|Person=3|Tense=Fut|VerbForm=Fin\n",
      "comme ADP case comme xxxx \n",
      "la DET det le xx Definite=Def|Gender=Fem|Number=Sing|PronType=Art\n",
      "nuit NOUN obl:mod nuit xxxx Gender=Fem|Number=Sing\n",
      ". PUNCT punct . . \n",
      "\n",
      "\n",
      " SPACE dep \n",
      "\n",
      " \n",
      "\n",
      " \n",
      "Je PRON nsubj je Xx Number=Sing|Person=1\n",
      "ne ADV advmod ne xx Polarity=Neg\n",
      "regarderai VERB ROOT regarder xxxx Mood=Ind|Number=Plur|Person=2|Tense=Pres|VerbForm=Fin\n",
      "ni CCONJ cc ni xx \n",
      "l' DET det le x' Definite=Def|Number=Sing|PronType=Art\n",
      "or NOUN obj or xx Gender=Masc|Number=Sing\n",
      "du ADP case de xx Definite=Def|Gender=Masc|Number=Sing|PronType=Art\n",
      "soir NOUN nmod soir xxxx Gender=Masc|Number=Sing\n",
      "qui PRON nsubj qui xxx PronType=Rel\n",
      "tombe VERB acl:relcl tombe xxxx Mood=Ind|Number=Sing|Person=3|Tense=Pres|VerbForm=Fin\n",
      ", PUNCT punct , , \n",
      "\n",
      " SPACE dep \n",
      " \n",
      " \n",
      "Ni PUNCT punct ni Xx \n",
      "les DET det le xxx Definite=Def|Number=Plur|PronType=Art\n",
      "voiles NOUN obj voile xxxx Gender=Fem|Number=Plur\n",
      "au ADP case au xx Definite=Def|Gender=Masc|Number=Sing|PronType=Art\n",
      "loin ADV advmod loin xxxx \n",
      "descendant VERB acl descendre xxxx Gender=Masc|Number=Sing|Tense=Past|VerbForm=Part\n",
      "vers ADP case vers xxxx \n",
      "Harfleur PROPN nmod Harfleur Xxxxx Gender=Masc|Number=Sing\n",
      ", PUNCT punct , , \n",
      "\n",
      " SPACE dep \n",
      " \n",
      " \n",
      "Et CCONJ cc et Xx \n",
      "quand SCONJ mark quand xxxx \n",
      "j' PRON nsubj je x' Number=Sing|Person=1\n",
      "arriverai VERB advcl arriver xxxx Mood=Ind|Number=Sing|Person=1|Tense=Pres|VerbForm=Fin\n",
      ", PUNCT punct , , \n",
      "je PRON nsubj je xx Number=Sing|Person=1\n",
      "mettrai VERB advcl mettre xxxx Mood=Ind|Number=Sing|Person=3|Tense=Fut|VerbForm=Fin\n",
      "sur ADP case sur xxx \n",
      "ta DET obj ton xx Gender=Fem|Number=Sing|Poss=Yes\n",
      "tombe VERB obl:arg tombe xxxx Mood=Ind|Number=Sing|Person=3|Tense=Pres|VerbForm=Fin\n",
      "\n",
      " SPACE dep \n",
      " \n",
      " \n",
      "Un DET det un Xx Definite=Ind|Gender=Masc|Number=Sing|PronType=Art\n",
      "bouquet NOUN obj bouquet xxxx Gender=Masc|Number=Sing\n",
      "de ADP case de xx \n",
      "houx NOUN nmod houx xxxx Gender=Masc|Number=Sing\n",
      "vert PROPN amod vert xxxx Gender=Masc|Number=Sing\n",
      "et CCONJ cc et xx \n",
      "de ADP case de xx \n",
      "bruyère NOUN conj bruyère xxxx Gender=Fem|Number=Sing\n",
      "en ADP case en xx \n",
      "fleur NOUN nmod fleur xxxx Gender=Fem|Number=Sing\n",
      ". PUNCT punct . . \n"
     ]
    },
    {
     "name": "stderr",
     "output_type": "stream",
     "text": [
      "\n"
     ]
    }
   ],
   "source": [
    "from tqdm import tqdm\n",
    "\n",
    "with tqdm(total=len(doc), desc=\"Traitement des tokens\") as pbar:\n",
    "    for token in doc:\n",
    "        # Loop for\n",
    "        print(token.text, token.pos_, token.dep_, token.lemma_, token.shape_, token.morph)\n",
    "\n",
    "        # Update loading bar\n",
    "        pbar.update(1)"
   ],
   "metadata": {
    "collapsed": false,
    "ExecuteTime": {
     "end_time": "2023-05-26T13:06:37.401966200Z",
     "start_time": "2023-05-26T13:06:37.369932100Z"
    }
   }
  },
  {
   "cell_type": "code",
   "execution_count": 444,
   "outputs": [
    {
     "name": "stdout",
     "output_type": "stream",
     "text": [
      "Collecting openpyxl\n",
      "  Downloading openpyxl-3.1.2-py2.py3-none-any.whl (249 kB)\n",
      "     ---------------------------------------- 0.0/250.0 kB ? eta -:--:--\n",
      "     -------------------------------------  245.8/250.0 kB 7.6 MB/s eta 0:00:01\n",
      "     -------------------------------------- 250.0/250.0 kB 5.1 MB/s eta 0:00:00\n",
      "Collecting et-xmlfile\n",
      "  Downloading et_xmlfile-1.1.0-py3-none-any.whl (4.7 kB)\n",
      "Installing collected packages: et-xmlfile, openpyxl\n",
      "Successfully installed et-xmlfile-1.1.0 openpyxl-3.1.2\n"
     ]
    }
   ],
   "source": [
    "df.to_csv(\"users.csv\")\n",
    "!pip install openpyxl\n",
    "import openpyxl\n",
    "df.to_excel(\"users.xlsx\")"
   ],
   "metadata": {
    "collapsed": false,
    "ExecuteTime": {
     "end_time": "2023-05-26T10:19:40.034926900Z",
     "start_time": "2023-05-26T10:19:35.610119600Z"
    }
   }
  },
  {
   "cell_type": "code",
   "execution_count": 514,
   "outputs": [],
   "source": [
    "tokens_nostopwords = [(token.text, token.pos_, token.dep_, token.lemma_, token.shape_, token.morph) for token in doc if token.text.lower() not in stopwords]"
   ],
   "metadata": {
    "collapsed": false,
    "ExecuteTime": {
     "end_time": "2023-05-26T14:27:33.527109300Z",
     "start_time": "2023-05-26T14:27:33.519573600Z"
    }
   }
  },
  {
   "cell_type": "code",
   "execution_count": 509,
   "outputs": [
    {
     "data": {
      "text/plain": "[('Demain', 'PROPN', 'obl:mod', 'Demain', 'Xxxxx', ),\n (',', 'PUNCT', 'punct', ',', ',', ),\n ('aube', 'NOUN', 'obl:mod', 'aube', 'xxxx', Gender=Fem|Number=Sing),\n (',', 'PUNCT', 'punct', ',', ',', ),\n ('heure', 'NOUN', 'obl:mod', 'heure', 'xxxx', Gender=Fem|Number=Sing),\n ('blanchit', 'NOUN', 'acl:relcl', 'blanchit', 'xxxx', Gender=Fem|Number=Sing),\n ('campagne', 'NOUN', 'obj', 'campagne', 'xxxx', Gender=Fem|Number=Sing),\n (',', 'PUNCT', 'punct', ',', ',', ),\n ('\\n', 'SPACE', 'dep', '\\n', '\\n', ),\n ('partirai',\n  'VERB',\n  'ROOT',\n  'partir',\n  'xxxx',\n  Mood=Ind|Number=Sing|Person=1|Tense=Pres|VerbForm=Fin),\n ('.', 'PUNCT', 'punct', '.', '.', ),\n ('Vois', 'PRON', 'ROOT', 'voir', 'Xxxx', Number=Sing|Person=2|PronType=Prs),\n ('-', 'PROPN', 'ROOT', '-', '-', ),\n (',', 'PUNCT', 'punct', ',', ',', ),\n ('sais',\n  'VERB',\n  'advcl',\n  'savoir',\n  'xxxx',\n  Mood=Ind|Number=Sing|Person=1|Tense=Pres|VerbForm=Fin),\n ('attends',\n  'VERB',\n  'ccomp',\n  'attendre',\n  'xxxx',\n  Mood=Ind|Number=Sing|Person=1|Tense=Pres|VerbForm=Fin),\n ('.', 'PUNCT', 'punct', '.', '.', ),\n ('\\n', 'SPACE', 'dep', '\\n', '\\n', ),\n ('irai',\n  'VERB',\n  'xcomp',\n  'aller',\n  'xxxx',\n  Mood=Ind|Number=Sing|Person=1|Tense=Pres|VerbForm=Fin),\n ('forêt', 'NOUN', 'obl:agent', 'forêt', 'xxxx', Gender=Fem|Number=Sing),\n (',', 'PUNCT', 'punct', ',', ',', ),\n ('irai',\n  'VERB',\n  'ROOT',\n  'aller',\n  'xxxx',\n  Mood=Ind|Number=Sing|Person=1|Tense=Pres|VerbForm=Fin),\n ('montagne', 'NOUN', 'obl:agent', 'montagne', 'xxxx', Gender=Fem|Number=Sing),\n ('.', 'PUNCT', 'punct', '.', '.', ),\n ('\\n', 'SPACE', 'dep', '\\n', '\\n', ),\n ('demeurer', 'VERB', 'ROOT', 'demeurer', 'xxxx', VerbForm=Inf),\n ('loin', 'ADV', 'obj', 'loin', 'xxxx', ),\n ('.', 'PUNCT', 'punct', '.', '.', ),\n ('\\n\\n', 'SPACE', 'dep', '\\n\\n', '\\n\\n', ),\n ('marcherai',\n  'VERB',\n  'advcl',\n  'marcher',\n  'xxxx',\n  Mood=Ind|Number=Sing|Person=1|Tense=Pres|VerbForm=Fin),\n ('yeux', 'NOUN', 'obj', 'oeil', 'xxxx', Gender=Masc|Number=Plur),\n ('fixés',\n  'VERB',\n  'acl',\n  'fixer',\n  'xxxx',\n  Gender=Masc|Number=Plur|Tense=Past|VerbForm=Part),\n ('pensées', 'NOUN', 'obl:mod', 'pensée', 'xxxx', Gender=Fem|Number=Plur),\n (',', 'PUNCT', 'punct', ',', ',', ),\n ('\\n', 'SPACE', 'dep', '\\n', '\\n', ),\n ('rien', 'PRON', 'obl:mod', 'rien', 'xxxx', Number=Sing),\n ('voir', 'VERB', 'acl', 'voir', 'xxxx', VerbForm=Inf),\n (',', 'PUNCT', 'punct', ',', ',', ),\n ('entendre', 'VERB', 'advcl', 'entendre', 'xxxx', VerbForm=Inf),\n ('aucun', 'DET', 'det', 'aucun', 'xxxx', Gender=Masc|Number=Sing),\n ('bruit', 'NOUN', 'obj', 'bruit', 'xxxx', Gender=Masc|Number=Sing),\n (',', 'PUNCT', 'punct', ',', ',', ),\n ('\\n', 'SPACE', 'dep', '\\n', '\\n', ),\n (',', 'PUNCT', 'punct', ',', ',', ),\n ('inconnu', 'ADJ', 'amod', 'inconnu', 'xxxx', Gender=Masc|Number=Sing),\n (',', 'PUNCT', 'punct', ',', ',', ),\n ('dos', 'NOUN', 'nsubj', 'dos', 'xxx', Gender=Masc|Number=Sing),\n ('courbé',\n  'VERB',\n  'acl',\n  'courber',\n  'xxxx',\n  Gender=Masc|Number=Sing|Tense=Past|VerbForm=Part),\n (',', 'PUNCT', 'punct', ',', ',', ),\n ('mains', 'NOUN', 'appos', 'main', 'xxxx', Gender=Fem|Number=Plur),\n ('croisées', 'ADJ', 'amod', 'croisé', 'xxxx', Gender=Fem|Number=Plur),\n (',', 'PUNCT', 'punct', ',', ',', ),\n ('\\n', 'SPACE', 'dep', '\\n', '\\n', ),\n ('Triste', 'ADJ', 'conj', 'triste', 'Xxxxx', Number=Sing),\n (',', 'PUNCT', 'punct', ',', ',', ),\n ('jour', 'NOUN', 'conj', 'jour', 'xxxx', Gender=Masc|Number=Sing),\n ('nuit', 'NOUN', 'obl:mod', 'nuit', 'xxxx', Gender=Fem|Number=Sing),\n ('.', 'PUNCT', 'punct', '.', '.', ),\n ('\\n\\n', 'SPACE', 'dep', '\\n\\n', '\\n\\n', ),\n ('regarderai',\n  'VERB',\n  'ROOT',\n  'regarder',\n  'xxxx',\n  Mood=Ind|Number=Plur|Person=2|Tense=Pres|VerbForm=Fin),\n ('soir', 'NOUN', 'nmod', 'soir', 'xxxx', Gender=Masc|Number=Sing),\n ('tombe',\n  'VERB',\n  'acl:relcl',\n  'tombe',\n  'xxxx',\n  Mood=Ind|Number=Sing|Person=3|Tense=Pres|VerbForm=Fin),\n (',', 'PUNCT', 'punct', ',', ',', ),\n ('\\n', 'SPACE', 'dep', '\\n', '\\n', ),\n ('voiles', 'NOUN', 'obj', 'voile', 'xxxx', Gender=Fem|Number=Plur),\n ('loin', 'ADV', 'advmod', 'loin', 'xxxx', ),\n ('descendant',\n  'VERB',\n  'acl',\n  'descendre',\n  'xxxx',\n  Gender=Masc|Number=Sing|Tense=Past|VerbForm=Part),\n ('Harfleur', 'PROPN', 'nmod', 'Harfleur', 'Xxxxx', Gender=Masc|Number=Sing),\n (',', 'PUNCT', 'punct', ',', ',', ),\n ('\\n', 'SPACE', 'dep', '\\n', '\\n', ),\n ('arriverai',\n  'VERB',\n  'advcl',\n  'arriver',\n  'xxxx',\n  Mood=Ind|Number=Sing|Person=1|Tense=Pres|VerbForm=Fin),\n (',', 'PUNCT', 'punct', ',', ',', ),\n ('mettrai',\n  'VERB',\n  'advcl',\n  'mettre',\n  'xxxx',\n  Mood=Ind|Number=Sing|Person=3|Tense=Fut|VerbForm=Fin),\n ('tombe',\n  'VERB',\n  'obl:arg',\n  'tombe',\n  'xxxx',\n  Mood=Ind|Number=Sing|Person=3|Tense=Pres|VerbForm=Fin),\n ('\\n', 'SPACE', 'dep', '\\n', '\\n', ),\n ('bouquet', 'NOUN', 'obj', 'bouquet', 'xxxx', Gender=Masc|Number=Sing),\n ('houx', 'NOUN', 'nmod', 'houx', 'xxxx', Gender=Masc|Number=Sing),\n ('vert', 'PROPN', 'amod', 'vert', 'xxxx', Gender=Masc|Number=Sing),\n ('bruyère', 'NOUN', 'conj', 'bruyère', 'xxxx', Gender=Fem|Number=Sing),\n ('fleur', 'NOUN', 'nmod', 'fleur', 'xxxx', Gender=Fem|Number=Sing),\n ('.', 'PUNCT', 'punct', '.', '.', )]"
     },
     "execution_count": 509,
     "metadata": {},
     "output_type": "execute_result"
    }
   ],
   "source": [
    "tokens_nostopwords"
   ],
   "metadata": {
    "collapsed": false,
    "ExecuteTime": {
     "end_time": "2023-05-26T13:07:03.152358100Z",
     "start_time": "2023-05-26T13:07:03.111679200Z"
    }
   }
  },
  {
   "cell_type": "code",
   "execution_count": 517,
   "outputs": [],
   "source": [
    "tokens_df = pd.DataFrame(tokens_nostopwords, columns=['token', 'pos', \"dep\", \"lemma\", \"shape\", \"shape\"])"
   ],
   "metadata": {
    "collapsed": false,
    "ExecuteTime": {
     "end_time": "2023-05-26T14:35:52.101411900Z",
     "start_time": "2023-05-26T14:35:52.039394600Z"
    }
   }
  },
  {
   "cell_type": "code",
   "execution_count": 518,
   "outputs": [
    {
     "data": {
      "text/plain": "      token    pos      dep    lemma  shape                       shape\n0    Demain  PROPN  obl:mod   Demain  Xxxxx                          ()\n1         ,  PUNCT    punct        ,      ,                          ()\n2      aube   NOUN  obl:mod     aube   xxxx   (Gender=Fem, Number=Sing)\n3         ,  PUNCT    punct        ,      ,                          ()\n4     heure   NOUN  obl:mod    heure   xxxx   (Gender=Fem, Number=Sing)\n..      ...    ...      ...      ...    ...                         ...\n76     houx   NOUN     nmod     houx   xxxx  (Gender=Masc, Number=Sing)\n77     vert  PROPN     amod     vert   xxxx  (Gender=Masc, Number=Sing)\n78  bruyère   NOUN     conj  bruyère   xxxx   (Gender=Fem, Number=Sing)\n79    fleur   NOUN     nmod    fleur   xxxx   (Gender=Fem, Number=Sing)\n80        .  PUNCT    punct        .      .                          ()\n\n[81 rows x 6 columns]",
      "text/html": "<div>\n<style scoped>\n    .dataframe tbody tr th:only-of-type {\n        vertical-align: middle;\n    }\n\n    .dataframe tbody tr th {\n        vertical-align: top;\n    }\n\n    .dataframe thead th {\n        text-align: right;\n    }\n</style>\n<table border=\"1\" class=\"dataframe\">\n  <thead>\n    <tr style=\"text-align: right;\">\n      <th></th>\n      <th>token</th>\n      <th>pos</th>\n      <th>dep</th>\n      <th>lemma</th>\n      <th>shape</th>\n      <th>shape</th>\n    </tr>\n  </thead>\n  <tbody>\n    <tr>\n      <th>0</th>\n      <td>Demain</td>\n      <td>PROPN</td>\n      <td>obl:mod</td>\n      <td>Demain</td>\n      <td>Xxxxx</td>\n      <td>()</td>\n    </tr>\n    <tr>\n      <th>1</th>\n      <td>,</td>\n      <td>PUNCT</td>\n      <td>punct</td>\n      <td>,</td>\n      <td>,</td>\n      <td>()</td>\n    </tr>\n    <tr>\n      <th>2</th>\n      <td>aube</td>\n      <td>NOUN</td>\n      <td>obl:mod</td>\n      <td>aube</td>\n      <td>xxxx</td>\n      <td>(Gender=Fem, Number=Sing)</td>\n    </tr>\n    <tr>\n      <th>3</th>\n      <td>,</td>\n      <td>PUNCT</td>\n      <td>punct</td>\n      <td>,</td>\n      <td>,</td>\n      <td>()</td>\n    </tr>\n    <tr>\n      <th>4</th>\n      <td>heure</td>\n      <td>NOUN</td>\n      <td>obl:mod</td>\n      <td>heure</td>\n      <td>xxxx</td>\n      <td>(Gender=Fem, Number=Sing)</td>\n    </tr>\n    <tr>\n      <th>...</th>\n      <td>...</td>\n      <td>...</td>\n      <td>...</td>\n      <td>...</td>\n      <td>...</td>\n      <td>...</td>\n    </tr>\n    <tr>\n      <th>76</th>\n      <td>houx</td>\n      <td>NOUN</td>\n      <td>nmod</td>\n      <td>houx</td>\n      <td>xxxx</td>\n      <td>(Gender=Masc, Number=Sing)</td>\n    </tr>\n    <tr>\n      <th>77</th>\n      <td>vert</td>\n      <td>PROPN</td>\n      <td>amod</td>\n      <td>vert</td>\n      <td>xxxx</td>\n      <td>(Gender=Masc, Number=Sing)</td>\n    </tr>\n    <tr>\n      <th>78</th>\n      <td>bruyère</td>\n      <td>NOUN</td>\n      <td>conj</td>\n      <td>bruyère</td>\n      <td>xxxx</td>\n      <td>(Gender=Fem, Number=Sing)</td>\n    </tr>\n    <tr>\n      <th>79</th>\n      <td>fleur</td>\n      <td>NOUN</td>\n      <td>nmod</td>\n      <td>fleur</td>\n      <td>xxxx</td>\n      <td>(Gender=Fem, Number=Sing)</td>\n    </tr>\n    <tr>\n      <th>80</th>\n      <td>.</td>\n      <td>PUNCT</td>\n      <td>punct</td>\n      <td>.</td>\n      <td>.</td>\n      <td>()</td>\n    </tr>\n  </tbody>\n</table>\n<p>81 rows × 6 columns</p>\n</div>"
     },
     "execution_count": 518,
     "metadata": {},
     "output_type": "execute_result"
    }
   ],
   "source": [
    "tokens_df"
   ],
   "metadata": {
    "collapsed": false,
    "ExecuteTime": {
     "end_time": "2023-05-26T14:35:53.976894300Z",
     "start_time": "2023-05-26T14:35:53.847552Z"
    }
   }
  },
  {
   "cell_type": "code",
   "execution_count": 512,
   "outputs": [],
   "source": [
    "tokens_df = tokens_df.drop(tokens_df[tokens_df['dep'] == 'punct'].index)\n",
    "tokens_df = tokens_df.drop(tokens_df[tokens_df['dep'] == 'dep'].index)"
   ],
   "metadata": {
    "collapsed": false,
    "ExecuteTime": {
     "end_time": "2023-05-26T13:07:33.909687600Z",
     "start_time": "2023-05-26T13:07:33.877652200Z"
    }
   }
  },
  {
   "cell_type": "code",
   "execution_count": 516,
   "outputs": [
    {
     "data": {
      "text/plain": "         token    pos        dep      lemma  shape   \n0       Demain  PROPN    obl:mod     Demain  Xxxxx  \\\n2         aube   NOUN    obl:mod       aube   xxxx   \n4        heure   NOUN    obl:mod      heure   xxxx   \n5     blanchit   NOUN  acl:relcl   blanchit   xxxx   \n6     campagne   NOUN        obj   campagne   xxxx   \n9     partirai   VERB       ROOT     partir   xxxx   \n11        Vois   PRON       ROOT       voir   Xxxx   \n12           -  PROPN       ROOT          -      -   \n14        sais   VERB      advcl     savoir   xxxx   \n15     attends   VERB      ccomp   attendre   xxxx   \n18        irai   VERB      xcomp      aller   xxxx   \n19       forêt   NOUN  obl:agent      forêt   xxxx   \n21        irai   VERB       ROOT      aller   xxxx   \n22    montagne   NOUN  obl:agent   montagne   xxxx   \n25    demeurer   VERB       ROOT   demeurer   xxxx   \n26        loin    ADV        obj       loin   xxxx   \n29   marcherai   VERB      advcl    marcher   xxxx   \n30        yeux   NOUN        obj       oeil   xxxx   \n31       fixés   VERB        acl      fixer   xxxx   \n32     pensées   NOUN    obl:mod     pensée   xxxx   \n35        rien   PRON    obl:mod       rien   xxxx   \n36        voir   VERB        acl       voir   xxxx   \n38    entendre   VERB      advcl   entendre   xxxx   \n39       aucun    DET        det      aucun   xxxx   \n40       bruit   NOUN        obj      bruit   xxxx   \n44     inconnu    ADJ       amod    inconnu   xxxx   \n46         dos   NOUN      nsubj        dos    xxx   \n47      courbé   VERB        acl    courber   xxxx   \n49       mains   NOUN      appos       main   xxxx   \n50    croisées    ADJ       amod     croisé   xxxx   \n53      Triste    ADJ       conj     triste  Xxxxx   \n55        jour   NOUN       conj       jour   xxxx   \n56        nuit   NOUN    obl:mod       nuit   xxxx   \n59  regarderai   VERB       ROOT   regarder   xxxx   \n60        soir   NOUN       nmod       soir   xxxx   \n61       tombe   VERB  acl:relcl      tombe   xxxx   \n64      voiles   NOUN        obj      voile   xxxx   \n65        loin    ADV     advmod       loin   xxxx   \n66  descendant   VERB        acl  descendre   xxxx   \n67    Harfleur  PROPN       nmod   Harfleur  Xxxxx   \n70   arriverai   VERB      advcl    arriver   xxxx   \n72     mettrai   VERB      advcl     mettre   xxxx   \n73       tombe   VERB    obl:arg      tombe   xxxx   \n75     bouquet   NOUN        obj    bouquet   xxxx   \n76        houx   NOUN       nmod       houx   xxxx   \n77        vert  PROPN       amod       vert   xxxx   \n78     bruyère   NOUN       conj    bruyère   xxxx   \n79       fleur   NOUN       nmod      fleur   xxxx   \n\n                                                shape  \n0                                                  ()  \n2                           (Gender=Fem, Number=Sing)  \n4                           (Gender=Fem, Number=Sing)  \n5                           (Gender=Fem, Number=Sing)  \n6                           (Gender=Fem, Number=Sing)  \n9   (Mood=Ind, Number=Sing, Person=1, Tense=Pres, ...  \n11              (Number=Sing, Person=2, PronType=Prs)  \n12                                                 ()  \n14  (Mood=Ind, Number=Sing, Person=1, Tense=Pres, ...  \n15  (Mood=Ind, Number=Sing, Person=1, Tense=Pres, ...  \n18  (Mood=Ind, Number=Sing, Person=1, Tense=Pres, ...  \n19                          (Gender=Fem, Number=Sing)  \n21  (Mood=Ind, Number=Sing, Person=1, Tense=Pres, ...  \n22                          (Gender=Fem, Number=Sing)  \n25                                     (VerbForm=Inf)  \n26                                                 ()  \n29  (Mood=Ind, Number=Sing, Person=1, Tense=Pres, ...  \n30                         (Gender=Masc, Number=Plur)  \n31  (Gender=Masc, Number=Plur, Tense=Past, VerbFor...  \n32                          (Gender=Fem, Number=Plur)  \n35                                      (Number=Sing)  \n36                                     (VerbForm=Inf)  \n38                                     (VerbForm=Inf)  \n39                         (Gender=Masc, Number=Sing)  \n40                         (Gender=Masc, Number=Sing)  \n44                         (Gender=Masc, Number=Sing)  \n46                         (Gender=Masc, Number=Sing)  \n47  (Gender=Masc, Number=Sing, Tense=Past, VerbFor...  \n49                          (Gender=Fem, Number=Plur)  \n50                          (Gender=Fem, Number=Plur)  \n53                                      (Number=Sing)  \n55                         (Gender=Masc, Number=Sing)  \n56                          (Gender=Fem, Number=Sing)  \n59  (Mood=Ind, Number=Plur, Person=2, Tense=Pres, ...  \n60                         (Gender=Masc, Number=Sing)  \n61  (Mood=Ind, Number=Sing, Person=3, Tense=Pres, ...  \n64                          (Gender=Fem, Number=Plur)  \n65                                                 ()  \n66  (Gender=Masc, Number=Sing, Tense=Past, VerbFor...  \n67                         (Gender=Masc, Number=Sing)  \n70  (Mood=Ind, Number=Sing, Person=1, Tense=Pres, ...  \n72  (Mood=Ind, Number=Sing, Person=3, Tense=Fut, V...  \n73  (Mood=Ind, Number=Sing, Person=3, Tense=Pres, ...  \n75                         (Gender=Masc, Number=Sing)  \n76                         (Gender=Masc, Number=Sing)  \n77                         (Gender=Masc, Number=Sing)  \n78                          (Gender=Fem, Number=Sing)  \n79                          (Gender=Fem, Number=Sing)  ",
      "text/html": "<div>\n<style scoped>\n    .dataframe tbody tr th:only-of-type {\n        vertical-align: middle;\n    }\n\n    .dataframe tbody tr th {\n        vertical-align: top;\n    }\n\n    .dataframe thead th {\n        text-align: right;\n    }\n</style>\n<table border=\"1\" class=\"dataframe\">\n  <thead>\n    <tr style=\"text-align: right;\">\n      <th></th>\n      <th>token</th>\n      <th>pos</th>\n      <th>dep</th>\n      <th>lemma</th>\n      <th>shape</th>\n      <th>shape</th>\n    </tr>\n  </thead>\n  <tbody>\n    <tr>\n      <th>0</th>\n      <td>Demain</td>\n      <td>PROPN</td>\n      <td>obl:mod</td>\n      <td>Demain</td>\n      <td>Xxxxx</td>\n      <td>()</td>\n    </tr>\n    <tr>\n      <th>2</th>\n      <td>aube</td>\n      <td>NOUN</td>\n      <td>obl:mod</td>\n      <td>aube</td>\n      <td>xxxx</td>\n      <td>(Gender=Fem, Number=Sing)</td>\n    </tr>\n    <tr>\n      <th>4</th>\n      <td>heure</td>\n      <td>NOUN</td>\n      <td>obl:mod</td>\n      <td>heure</td>\n      <td>xxxx</td>\n      <td>(Gender=Fem, Number=Sing)</td>\n    </tr>\n    <tr>\n      <th>5</th>\n      <td>blanchit</td>\n      <td>NOUN</td>\n      <td>acl:relcl</td>\n      <td>blanchit</td>\n      <td>xxxx</td>\n      <td>(Gender=Fem, Number=Sing)</td>\n    </tr>\n    <tr>\n      <th>6</th>\n      <td>campagne</td>\n      <td>NOUN</td>\n      <td>obj</td>\n      <td>campagne</td>\n      <td>xxxx</td>\n      <td>(Gender=Fem, Number=Sing)</td>\n    </tr>\n    <tr>\n      <th>9</th>\n      <td>partirai</td>\n      <td>VERB</td>\n      <td>ROOT</td>\n      <td>partir</td>\n      <td>xxxx</td>\n      <td>(Mood=Ind, Number=Sing, Person=1, Tense=Pres, ...</td>\n    </tr>\n    <tr>\n      <th>11</th>\n      <td>Vois</td>\n      <td>PRON</td>\n      <td>ROOT</td>\n      <td>voir</td>\n      <td>Xxxx</td>\n      <td>(Number=Sing, Person=2, PronType=Prs)</td>\n    </tr>\n    <tr>\n      <th>12</th>\n      <td>-</td>\n      <td>PROPN</td>\n      <td>ROOT</td>\n      <td>-</td>\n      <td>-</td>\n      <td>()</td>\n    </tr>\n    <tr>\n      <th>14</th>\n      <td>sais</td>\n      <td>VERB</td>\n      <td>advcl</td>\n      <td>savoir</td>\n      <td>xxxx</td>\n      <td>(Mood=Ind, Number=Sing, Person=1, Tense=Pres, ...</td>\n    </tr>\n    <tr>\n      <th>15</th>\n      <td>attends</td>\n      <td>VERB</td>\n      <td>ccomp</td>\n      <td>attendre</td>\n      <td>xxxx</td>\n      <td>(Mood=Ind, Number=Sing, Person=1, Tense=Pres, ...</td>\n    </tr>\n    <tr>\n      <th>18</th>\n      <td>irai</td>\n      <td>VERB</td>\n      <td>xcomp</td>\n      <td>aller</td>\n      <td>xxxx</td>\n      <td>(Mood=Ind, Number=Sing, Person=1, Tense=Pres, ...</td>\n    </tr>\n    <tr>\n      <th>19</th>\n      <td>forêt</td>\n      <td>NOUN</td>\n      <td>obl:agent</td>\n      <td>forêt</td>\n      <td>xxxx</td>\n      <td>(Gender=Fem, Number=Sing)</td>\n    </tr>\n    <tr>\n      <th>21</th>\n      <td>irai</td>\n      <td>VERB</td>\n      <td>ROOT</td>\n      <td>aller</td>\n      <td>xxxx</td>\n      <td>(Mood=Ind, Number=Sing, Person=1, Tense=Pres, ...</td>\n    </tr>\n    <tr>\n      <th>22</th>\n      <td>montagne</td>\n      <td>NOUN</td>\n      <td>obl:agent</td>\n      <td>montagne</td>\n      <td>xxxx</td>\n      <td>(Gender=Fem, Number=Sing)</td>\n    </tr>\n    <tr>\n      <th>25</th>\n      <td>demeurer</td>\n      <td>VERB</td>\n      <td>ROOT</td>\n      <td>demeurer</td>\n      <td>xxxx</td>\n      <td>(VerbForm=Inf)</td>\n    </tr>\n    <tr>\n      <th>26</th>\n      <td>loin</td>\n      <td>ADV</td>\n      <td>obj</td>\n      <td>loin</td>\n      <td>xxxx</td>\n      <td>()</td>\n    </tr>\n    <tr>\n      <th>29</th>\n      <td>marcherai</td>\n      <td>VERB</td>\n      <td>advcl</td>\n      <td>marcher</td>\n      <td>xxxx</td>\n      <td>(Mood=Ind, Number=Sing, Person=1, Tense=Pres, ...</td>\n    </tr>\n    <tr>\n      <th>30</th>\n      <td>yeux</td>\n      <td>NOUN</td>\n      <td>obj</td>\n      <td>oeil</td>\n      <td>xxxx</td>\n      <td>(Gender=Masc, Number=Plur)</td>\n    </tr>\n    <tr>\n      <th>31</th>\n      <td>fixés</td>\n      <td>VERB</td>\n      <td>acl</td>\n      <td>fixer</td>\n      <td>xxxx</td>\n      <td>(Gender=Masc, Number=Plur, Tense=Past, VerbFor...</td>\n    </tr>\n    <tr>\n      <th>32</th>\n      <td>pensées</td>\n      <td>NOUN</td>\n      <td>obl:mod</td>\n      <td>pensée</td>\n      <td>xxxx</td>\n      <td>(Gender=Fem, Number=Plur)</td>\n    </tr>\n    <tr>\n      <th>35</th>\n      <td>rien</td>\n      <td>PRON</td>\n      <td>obl:mod</td>\n      <td>rien</td>\n      <td>xxxx</td>\n      <td>(Number=Sing)</td>\n    </tr>\n    <tr>\n      <th>36</th>\n      <td>voir</td>\n      <td>VERB</td>\n      <td>acl</td>\n      <td>voir</td>\n      <td>xxxx</td>\n      <td>(VerbForm=Inf)</td>\n    </tr>\n    <tr>\n      <th>38</th>\n      <td>entendre</td>\n      <td>VERB</td>\n      <td>advcl</td>\n      <td>entendre</td>\n      <td>xxxx</td>\n      <td>(VerbForm=Inf)</td>\n    </tr>\n    <tr>\n      <th>39</th>\n      <td>aucun</td>\n      <td>DET</td>\n      <td>det</td>\n      <td>aucun</td>\n      <td>xxxx</td>\n      <td>(Gender=Masc, Number=Sing)</td>\n    </tr>\n    <tr>\n      <th>40</th>\n      <td>bruit</td>\n      <td>NOUN</td>\n      <td>obj</td>\n      <td>bruit</td>\n      <td>xxxx</td>\n      <td>(Gender=Masc, Number=Sing)</td>\n    </tr>\n    <tr>\n      <th>44</th>\n      <td>inconnu</td>\n      <td>ADJ</td>\n      <td>amod</td>\n      <td>inconnu</td>\n      <td>xxxx</td>\n      <td>(Gender=Masc, Number=Sing)</td>\n    </tr>\n    <tr>\n      <th>46</th>\n      <td>dos</td>\n      <td>NOUN</td>\n      <td>nsubj</td>\n      <td>dos</td>\n      <td>xxx</td>\n      <td>(Gender=Masc, Number=Sing)</td>\n    </tr>\n    <tr>\n      <th>47</th>\n      <td>courbé</td>\n      <td>VERB</td>\n      <td>acl</td>\n      <td>courber</td>\n      <td>xxxx</td>\n      <td>(Gender=Masc, Number=Sing, Tense=Past, VerbFor...</td>\n    </tr>\n    <tr>\n      <th>49</th>\n      <td>mains</td>\n      <td>NOUN</td>\n      <td>appos</td>\n      <td>main</td>\n      <td>xxxx</td>\n      <td>(Gender=Fem, Number=Plur)</td>\n    </tr>\n    <tr>\n      <th>50</th>\n      <td>croisées</td>\n      <td>ADJ</td>\n      <td>amod</td>\n      <td>croisé</td>\n      <td>xxxx</td>\n      <td>(Gender=Fem, Number=Plur)</td>\n    </tr>\n    <tr>\n      <th>53</th>\n      <td>Triste</td>\n      <td>ADJ</td>\n      <td>conj</td>\n      <td>triste</td>\n      <td>Xxxxx</td>\n      <td>(Number=Sing)</td>\n    </tr>\n    <tr>\n      <th>55</th>\n      <td>jour</td>\n      <td>NOUN</td>\n      <td>conj</td>\n      <td>jour</td>\n      <td>xxxx</td>\n      <td>(Gender=Masc, Number=Sing)</td>\n    </tr>\n    <tr>\n      <th>56</th>\n      <td>nuit</td>\n      <td>NOUN</td>\n      <td>obl:mod</td>\n      <td>nuit</td>\n      <td>xxxx</td>\n      <td>(Gender=Fem, Number=Sing)</td>\n    </tr>\n    <tr>\n      <th>59</th>\n      <td>regarderai</td>\n      <td>VERB</td>\n      <td>ROOT</td>\n      <td>regarder</td>\n      <td>xxxx</td>\n      <td>(Mood=Ind, Number=Plur, Person=2, Tense=Pres, ...</td>\n    </tr>\n    <tr>\n      <th>60</th>\n      <td>soir</td>\n      <td>NOUN</td>\n      <td>nmod</td>\n      <td>soir</td>\n      <td>xxxx</td>\n      <td>(Gender=Masc, Number=Sing)</td>\n    </tr>\n    <tr>\n      <th>61</th>\n      <td>tombe</td>\n      <td>VERB</td>\n      <td>acl:relcl</td>\n      <td>tombe</td>\n      <td>xxxx</td>\n      <td>(Mood=Ind, Number=Sing, Person=3, Tense=Pres, ...</td>\n    </tr>\n    <tr>\n      <th>64</th>\n      <td>voiles</td>\n      <td>NOUN</td>\n      <td>obj</td>\n      <td>voile</td>\n      <td>xxxx</td>\n      <td>(Gender=Fem, Number=Plur)</td>\n    </tr>\n    <tr>\n      <th>65</th>\n      <td>loin</td>\n      <td>ADV</td>\n      <td>advmod</td>\n      <td>loin</td>\n      <td>xxxx</td>\n      <td>()</td>\n    </tr>\n    <tr>\n      <th>66</th>\n      <td>descendant</td>\n      <td>VERB</td>\n      <td>acl</td>\n      <td>descendre</td>\n      <td>xxxx</td>\n      <td>(Gender=Masc, Number=Sing, Tense=Past, VerbFor...</td>\n    </tr>\n    <tr>\n      <th>67</th>\n      <td>Harfleur</td>\n      <td>PROPN</td>\n      <td>nmod</td>\n      <td>Harfleur</td>\n      <td>Xxxxx</td>\n      <td>(Gender=Masc, Number=Sing)</td>\n    </tr>\n    <tr>\n      <th>70</th>\n      <td>arriverai</td>\n      <td>VERB</td>\n      <td>advcl</td>\n      <td>arriver</td>\n      <td>xxxx</td>\n      <td>(Mood=Ind, Number=Sing, Person=1, Tense=Pres, ...</td>\n    </tr>\n    <tr>\n      <th>72</th>\n      <td>mettrai</td>\n      <td>VERB</td>\n      <td>advcl</td>\n      <td>mettre</td>\n      <td>xxxx</td>\n      <td>(Mood=Ind, Number=Sing, Person=3, Tense=Fut, V...</td>\n    </tr>\n    <tr>\n      <th>73</th>\n      <td>tombe</td>\n      <td>VERB</td>\n      <td>obl:arg</td>\n      <td>tombe</td>\n      <td>xxxx</td>\n      <td>(Mood=Ind, Number=Sing, Person=3, Tense=Pres, ...</td>\n    </tr>\n    <tr>\n      <th>75</th>\n      <td>bouquet</td>\n      <td>NOUN</td>\n      <td>obj</td>\n      <td>bouquet</td>\n      <td>xxxx</td>\n      <td>(Gender=Masc, Number=Sing)</td>\n    </tr>\n    <tr>\n      <th>76</th>\n      <td>houx</td>\n      <td>NOUN</td>\n      <td>nmod</td>\n      <td>houx</td>\n      <td>xxxx</td>\n      <td>(Gender=Masc, Number=Sing)</td>\n    </tr>\n    <tr>\n      <th>77</th>\n      <td>vert</td>\n      <td>PROPN</td>\n      <td>amod</td>\n      <td>vert</td>\n      <td>xxxx</td>\n      <td>(Gender=Masc, Number=Sing)</td>\n    </tr>\n    <tr>\n      <th>78</th>\n      <td>bruyère</td>\n      <td>NOUN</td>\n      <td>conj</td>\n      <td>bruyère</td>\n      <td>xxxx</td>\n      <td>(Gender=Fem, Number=Sing)</td>\n    </tr>\n    <tr>\n      <th>79</th>\n      <td>fleur</td>\n      <td>NOUN</td>\n      <td>nmod</td>\n      <td>fleur</td>\n      <td>xxxx</td>\n      <td>(Gender=Fem, Number=Sing)</td>\n    </tr>\n  </tbody>\n</table>\n</div>"
     },
     "execution_count": 516,
     "metadata": {},
     "output_type": "execute_result"
    }
   ],
   "source": [
    "tokens_df"
   ],
   "metadata": {
    "collapsed": false,
    "ExecuteTime": {
     "end_time": "2023-05-26T14:34:45.054621200Z",
     "start_time": "2023-05-26T14:34:44.957150700Z"
    }
   }
  },
  {
   "cell_type": "code",
   "execution_count": 484,
   "outputs": [],
   "source": [
    "tokens_df.to_csv(\"tokens.csv\")"
   ],
   "metadata": {
    "collapsed": false,
    "ExecuteTime": {
     "end_time": "2023-05-26T12:31:05.906959600Z",
     "start_time": "2023-05-26T12:31:05.866921400Z"
    }
   }
  }
 ],
 "metadata": {
  "kernelspec": {
   "display_name": "Python 3",
   "language": "python",
   "name": "python3"
  },
  "language_info": {
   "codemirror_mode": {
    "name": "ipython",
    "version": 2
   },
   "file_extension": ".py",
   "mimetype": "text/x-python",
   "name": "python",
   "nbconvert_exporter": "python",
   "pygments_lexer": "ipython2",
   "version": "2.7.6"
  }
 },
 "nbformat": 4,
 "nbformat_minor": 0
}
